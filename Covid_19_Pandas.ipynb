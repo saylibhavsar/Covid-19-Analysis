{
  "nbformat": 4,
  "nbformat_minor": 0,
  "metadata": {
    "colab": {
      "provenance": [],
      "collapsed_sections": []
    },
    "kernelspec": {
      "display_name": "Python 3",
      "language": "python",
      "name": "python3"
    },
    "language_info": {
      "codemirror_mode": {
        "name": "ipython",
        "version": 3
      },
      "file_extension": ".py",
      "mimetype": "text/x-python",
      "name": "python",
      "nbconvert_exporter": "python",
      "pygments_lexer": "ipython3",
      "version": "3.7.3"
    }
  },
  "cells": [
    {
      "cell_type": "markdown",
      "metadata": {
        "id": "3Rdt19CQnT0v"
      },
      "source": [
        "# Covid-19 - A Data Analysis & Visualization "
      ]
    },
    {
      "cell_type": "code",
      "metadata": {
        "colab": {
          "base_uri": "https://localhost:8080/",
          "height": 200
        },
        "id": "eNQcD4SunT09",
        "outputId": "4e61c816-65bb-4b2b-cec7-0b52f97acfaf"
      },
      "source": [
        "import pandas as pd\n",
        "import numpy as np\n",
        "\n",
        "# Load data\n",
        "df = pd.read_csv('/content/covid_19_data.csv')\n",
        "df.head()"
      ],
      "execution_count": null,
      "outputs": [
        {
          "output_type": "execute_result",
          "data": {
            "text/html": [
              "<div>\n",
              "<style scoped>\n",
              "    .dataframe tbody tr th:only-of-type {\n",
              "        vertical-align: middle;\n",
              "    }\n",
              "\n",
              "    .dataframe tbody tr th {\n",
              "        vertical-align: top;\n",
              "    }\n",
              "\n",
              "    .dataframe thead th {\n",
              "        text-align: right;\n",
              "    }\n",
              "</style>\n",
              "<table border=\"1\" class=\"dataframe\">\n",
              "  <thead>\n",
              "    <tr style=\"text-align: right;\">\n",
              "      <th></th>\n",
              "      <th>SNo</th>\n",
              "      <th>ObservationDate</th>\n",
              "      <th>Province/State</th>\n",
              "      <th>Country/Region</th>\n",
              "      <th>Last Update</th>\n",
              "      <th>Confirmed</th>\n",
              "      <th>Deaths</th>\n",
              "      <th>Recovered</th>\n",
              "    </tr>\n",
              "  </thead>\n",
              "  <tbody>\n",
              "    <tr>\n",
              "      <th>0</th>\n",
              "      <td>1</td>\n",
              "      <td>01/22/2020</td>\n",
              "      <td>Anhui</td>\n",
              "      <td>Mainland China</td>\n",
              "      <td>1/22/2020 17:00</td>\n",
              "      <td>1.0</td>\n",
              "      <td>0.0</td>\n",
              "      <td>0.0</td>\n",
              "    </tr>\n",
              "    <tr>\n",
              "      <th>1</th>\n",
              "      <td>2</td>\n",
              "      <td>01/22/2020</td>\n",
              "      <td>Beijing</td>\n",
              "      <td>Mainland China</td>\n",
              "      <td>1/22/2020 17:00</td>\n",
              "      <td>14.0</td>\n",
              "      <td>0.0</td>\n",
              "      <td>0.0</td>\n",
              "    </tr>\n",
              "    <tr>\n",
              "      <th>2</th>\n",
              "      <td>3</td>\n",
              "      <td>01/22/2020</td>\n",
              "      <td>Chongqing</td>\n",
              "      <td>Mainland China</td>\n",
              "      <td>1/22/2020 17:00</td>\n",
              "      <td>6.0</td>\n",
              "      <td>0.0</td>\n",
              "      <td>0.0</td>\n",
              "    </tr>\n",
              "    <tr>\n",
              "      <th>3</th>\n",
              "      <td>4</td>\n",
              "      <td>01/22/2020</td>\n",
              "      <td>Fujian</td>\n",
              "      <td>Mainland China</td>\n",
              "      <td>1/22/2020 17:00</td>\n",
              "      <td>1.0</td>\n",
              "      <td>0.0</td>\n",
              "      <td>0.0</td>\n",
              "    </tr>\n",
              "    <tr>\n",
              "      <th>4</th>\n",
              "      <td>5</td>\n",
              "      <td>01/22/2020</td>\n",
              "      <td>Gansu</td>\n",
              "      <td>Mainland China</td>\n",
              "      <td>1/22/2020 17:00</td>\n",
              "      <td>0.0</td>\n",
              "      <td>0.0</td>\n",
              "      <td>0.0</td>\n",
              "    </tr>\n",
              "  </tbody>\n",
              "</table>\n",
              "</div>"
            ],
            "text/plain": [
              "   SNo ObservationDate Province/State  ... Confirmed Deaths  Recovered\n",
              "0    1      01/22/2020          Anhui  ...       1.0    0.0        0.0\n",
              "1    2      01/22/2020        Beijing  ...      14.0    0.0        0.0\n",
              "2    3      01/22/2020      Chongqing  ...       6.0    0.0        0.0\n",
              "3    4      01/22/2020         Fujian  ...       1.0    0.0        0.0\n",
              "4    5      01/22/2020          Gansu  ...       0.0    0.0        0.0\n",
              "\n",
              "[5 rows x 8 columns]"
            ]
          },
          "metadata": {
            "tags": []
          },
          "execution_count": 2
        }
      ]
    },
    {
      "cell_type": "markdown",
      "metadata": {
        "id": "gYcAtmENVpIF"
      },
      "source": [
        "Basic info and description of the dataset"
      ]
    },
    {
      "cell_type": "code",
      "metadata": {
        "colab": {
          "base_uri": "https://localhost:8080/"
        },
        "id": "vUO7Ho5rnT1B",
        "outputId": "02e35288-9998-4611-a21a-4d5d987981ad"
      },
      "source": [
        "df.shape"
      ],
      "execution_count": null,
      "outputs": [
        {
          "output_type": "execute_result",
          "data": {
            "text/plain": [
              "(236017, 8)"
            ]
          },
          "metadata": {
            "tags": []
          },
          "execution_count": 5
        }
      ]
    },
    {
      "cell_type": "code",
      "metadata": {
        "colab": {
          "base_uri": "https://localhost:8080/"
        },
        "id": "vPqX_9RJnT1D",
        "outputId": "7fc2e0aa-bb9c-424d-a2f2-2a06276a13e4"
      },
      "source": [
        "#Get information and description of dataset.\n",
        "\n",
        "df.info()"
      ],
      "execution_count": null,
      "outputs": [
        {
          "output_type": "stream",
          "text": [
            "<class 'pandas.core.frame.DataFrame'>\n",
            "RangeIndex: 236017 entries, 0 to 236016\n",
            "Data columns (total 8 columns):\n",
            " #   Column           Non-Null Count   Dtype  \n",
            "---  ------           --------------   -----  \n",
            " 0   SNo              236017 non-null  int64  \n",
            " 1   ObservationDate  236017 non-null  object \n",
            " 2   Province/State   173972 non-null  object \n",
            " 3   Country/Region   236017 non-null  object \n",
            " 4   Last Update      236017 non-null  object \n",
            " 5   Confirmed        236017 non-null  float64\n",
            " 6   Deaths           236017 non-null  float64\n",
            " 7   Recovered        236017 non-null  float64\n",
            "dtypes: float64(3), int64(1), object(4)\n",
            "memory usage: 14.4+ MB\n"
          ],
          "name": "stdout"
        }
      ]
    },
    {
      "cell_type": "code",
      "metadata": {
        "colab": {
          "base_uri": "https://localhost:8080/",
          "height": 297
        },
        "id": "DvcGEl1AnT1E",
        "outputId": "654b2d9d-eb4e-4f41-bafb-d0e496341f33"
      },
      "source": [
        "#Get information and description of dataset.\n",
        "\n",
        "df.describe()"
      ],
      "execution_count": null,
      "outputs": [
        {
          "output_type": "execute_result",
          "data": {
            "text/html": [
              "<div>\n",
              "<style scoped>\n",
              "    .dataframe tbody tr th:only-of-type {\n",
              "        vertical-align: middle;\n",
              "    }\n",
              "\n",
              "    .dataframe tbody tr th {\n",
              "        vertical-align: top;\n",
              "    }\n",
              "\n",
              "    .dataframe thead th {\n",
              "        text-align: right;\n",
              "    }\n",
              "</style>\n",
              "<table border=\"1\" class=\"dataframe\">\n",
              "  <thead>\n",
              "    <tr style=\"text-align: right;\">\n",
              "      <th></th>\n",
              "      <th>SNo</th>\n",
              "      <th>Confirmed</th>\n",
              "      <th>Deaths</th>\n",
              "      <th>Recovered</th>\n",
              "      <th>Active</th>\n",
              "    </tr>\n",
              "  </thead>\n",
              "  <tbody>\n",
              "    <tr>\n",
              "      <th>count</th>\n",
              "      <td>108640.00000</td>\n",
              "      <td>1.086400e+05</td>\n",
              "      <td>108640.000000</td>\n",
              "      <td>1.086400e+05</td>\n",
              "      <td>1.086400e+05</td>\n",
              "    </tr>\n",
              "    <tr>\n",
              "      <th>mean</th>\n",
              "      <td>54320.50000</td>\n",
              "      <td>1.744133e+04</td>\n",
              "      <td>740.068446</td>\n",
              "      <td>9.913235e+03</td>\n",
              "      <td>6.788026e+03</td>\n",
              "    </tr>\n",
              "    <tr>\n",
              "      <th>std</th>\n",
              "      <td>31361.81096</td>\n",
              "      <td>5.304464e+04</td>\n",
              "      <td>2790.950067</td>\n",
              "      <td>5.588085e+04</td>\n",
              "      <td>5.790122e+04</td>\n",
              "    </tr>\n",
              "    <tr>\n",
              "      <th>min</th>\n",
              "      <td>1.00000</td>\n",
              "      <td>0.000000e+00</td>\n",
              "      <td>0.000000</td>\n",
              "      <td>0.000000e+00</td>\n",
              "      <td>-2.434658e+06</td>\n",
              "    </tr>\n",
              "    <tr>\n",
              "      <th>25%</th>\n",
              "      <td>27160.75000</td>\n",
              "      <td>2.110000e+02</td>\n",
              "      <td>3.000000</td>\n",
              "      <td>3.000000e+00</td>\n",
              "      <td>2.800000e+01</td>\n",
              "    </tr>\n",
              "    <tr>\n",
              "      <th>50%</th>\n",
              "      <td>54320.50000</td>\n",
              "      <td>1.902000e+03</td>\n",
              "      <td>38.000000</td>\n",
              "      <td>3.520000e+02</td>\n",
              "      <td>5.280000e+02</td>\n",
              "    </tr>\n",
              "    <tr>\n",
              "      <th>75%</th>\n",
              "      <td>81480.25000</td>\n",
              "      <td>9.464250e+03</td>\n",
              "      <td>301.000000</td>\n",
              "      <td>3.341250e+03</td>\n",
              "      <td>3.081250e+03</td>\n",
              "    </tr>\n",
              "    <tr>\n",
              "      <th>max</th>\n",
              "      <td>108640.00000</td>\n",
              "      <td>1.037765e+06</td>\n",
              "      <td>42072.000000</td>\n",
              "      <td>2.434658e+06</td>\n",
              "      <td>7.446060e+05</td>\n",
              "    </tr>\n",
              "  </tbody>\n",
              "</table>\n",
              "</div>"
            ],
            "text/plain": [
              "                SNo     Confirmed         Deaths     Recovered        Active\n",
              "count  108640.00000  1.086400e+05  108640.000000  1.086400e+05  1.086400e+05\n",
              "mean    54320.50000  1.744133e+04     740.068446  9.913235e+03  6.788026e+03\n",
              "std     31361.81096  5.304464e+04    2790.950067  5.588085e+04  5.790122e+04\n",
              "min         1.00000  0.000000e+00       0.000000  0.000000e+00 -2.434658e+06\n",
              "25%     27160.75000  2.110000e+02       3.000000  3.000000e+00  2.800000e+01\n",
              "50%     54320.50000  1.902000e+03      38.000000  3.520000e+02  5.280000e+02\n",
              "75%     81480.25000  9.464250e+03     301.000000  3.341250e+03  3.081250e+03\n",
              "max    108640.00000  1.037765e+06   42072.000000  2.434658e+06  7.446060e+05"
            ]
          },
          "metadata": {
            "tags": []
          },
          "execution_count": 67
        }
      ]
    },
    {
      "cell_type": "markdown",
      "metadata": {
        "id": "os42AmpuWJd4"
      },
      "source": [
        "Dealing with Null Values"
      ]
    },
    {
      "cell_type": "code",
      "metadata": {
        "colab": {
          "base_uri": "https://localhost:8080/"
        },
        "id": "Xsf6YdNnnT1G",
        "outputId": "fe21ba1c-81b8-4d84-d877-ae2d351326c8"
      },
      "source": [
        "#See if any null values are present. Display count of null values.\n",
        "\n",
        "df.isnull().sum()"
      ],
      "execution_count": null,
      "outputs": [
        {
          "output_type": "execute_result",
          "data": {
            "text/plain": [
              "SNo                    0\n",
              "ObservationDate        0\n",
              "Province/State     62045\n",
              "Country/Region         0\n",
              "Last Update            0\n",
              "Confirmed              0\n",
              "Deaths                 0\n",
              "Recovered              0\n",
              "dtype: int64"
            ]
          },
          "metadata": {
            "tags": []
          },
          "execution_count": 4
        }
      ]
    },
    {
      "cell_type": "code",
      "metadata": {
        "colab": {
          "base_uri": "https://localhost:8080/",
          "height": 352
        },
        "id": "pC7aQvrKnT1H",
        "outputId": "7d56dcdf-5daa-4743-9798-3be6b7154122"
      },
      "source": [
        "#Dealing with NA values\n",
        "\n",
        "df.dropna(inplace = True)\n",
        "df.head(10)"
      ],
      "execution_count": null,
      "outputs": [
        {
          "output_type": "execute_result",
          "data": {
            "text/html": [
              "<div>\n",
              "<style scoped>\n",
              "    .dataframe tbody tr th:only-of-type {\n",
              "        vertical-align: middle;\n",
              "    }\n",
              "\n",
              "    .dataframe tbody tr th {\n",
              "        vertical-align: top;\n",
              "    }\n",
              "\n",
              "    .dataframe thead th {\n",
              "        text-align: right;\n",
              "    }\n",
              "</style>\n",
              "<table border=\"1\" class=\"dataframe\">\n",
              "  <thead>\n",
              "    <tr style=\"text-align: right;\">\n",
              "      <th></th>\n",
              "      <th>SNo</th>\n",
              "      <th>ObservationDate</th>\n",
              "      <th>Province/State</th>\n",
              "      <th>Country/Region</th>\n",
              "      <th>Last Update</th>\n",
              "      <th>Confirmed</th>\n",
              "      <th>Deaths</th>\n",
              "      <th>Recovered</th>\n",
              "    </tr>\n",
              "  </thead>\n",
              "  <tbody>\n",
              "    <tr>\n",
              "      <th>0</th>\n",
              "      <td>1</td>\n",
              "      <td>01/22/2020</td>\n",
              "      <td>Anhui</td>\n",
              "      <td>Mainland China</td>\n",
              "      <td>1/22/2020 17:00</td>\n",
              "      <td>1.0</td>\n",
              "      <td>0.0</td>\n",
              "      <td>0.0</td>\n",
              "    </tr>\n",
              "    <tr>\n",
              "      <th>1</th>\n",
              "      <td>2</td>\n",
              "      <td>01/22/2020</td>\n",
              "      <td>Beijing</td>\n",
              "      <td>Mainland China</td>\n",
              "      <td>1/22/2020 17:00</td>\n",
              "      <td>14.0</td>\n",
              "      <td>0.0</td>\n",
              "      <td>0.0</td>\n",
              "    </tr>\n",
              "    <tr>\n",
              "      <th>2</th>\n",
              "      <td>3</td>\n",
              "      <td>01/22/2020</td>\n",
              "      <td>Chongqing</td>\n",
              "      <td>Mainland China</td>\n",
              "      <td>1/22/2020 17:00</td>\n",
              "      <td>6.0</td>\n",
              "      <td>0.0</td>\n",
              "      <td>0.0</td>\n",
              "    </tr>\n",
              "    <tr>\n",
              "      <th>3</th>\n",
              "      <td>4</td>\n",
              "      <td>01/22/2020</td>\n",
              "      <td>Fujian</td>\n",
              "      <td>Mainland China</td>\n",
              "      <td>1/22/2020 17:00</td>\n",
              "      <td>1.0</td>\n",
              "      <td>0.0</td>\n",
              "      <td>0.0</td>\n",
              "    </tr>\n",
              "    <tr>\n",
              "      <th>4</th>\n",
              "      <td>5</td>\n",
              "      <td>01/22/2020</td>\n",
              "      <td>Gansu</td>\n",
              "      <td>Mainland China</td>\n",
              "      <td>1/22/2020 17:00</td>\n",
              "      <td>0.0</td>\n",
              "      <td>0.0</td>\n",
              "      <td>0.0</td>\n",
              "    </tr>\n",
              "    <tr>\n",
              "      <th>5</th>\n",
              "      <td>6</td>\n",
              "      <td>01/22/2020</td>\n",
              "      <td>Guangdong</td>\n",
              "      <td>Mainland China</td>\n",
              "      <td>1/22/2020 17:00</td>\n",
              "      <td>26.0</td>\n",
              "      <td>0.0</td>\n",
              "      <td>0.0</td>\n",
              "    </tr>\n",
              "    <tr>\n",
              "      <th>6</th>\n",
              "      <td>7</td>\n",
              "      <td>01/22/2020</td>\n",
              "      <td>Guangxi</td>\n",
              "      <td>Mainland China</td>\n",
              "      <td>1/22/2020 17:00</td>\n",
              "      <td>2.0</td>\n",
              "      <td>0.0</td>\n",
              "      <td>0.0</td>\n",
              "    </tr>\n",
              "    <tr>\n",
              "      <th>7</th>\n",
              "      <td>8</td>\n",
              "      <td>01/22/2020</td>\n",
              "      <td>Guizhou</td>\n",
              "      <td>Mainland China</td>\n",
              "      <td>1/22/2020 17:00</td>\n",
              "      <td>1.0</td>\n",
              "      <td>0.0</td>\n",
              "      <td>0.0</td>\n",
              "    </tr>\n",
              "    <tr>\n",
              "      <th>8</th>\n",
              "      <td>9</td>\n",
              "      <td>01/22/2020</td>\n",
              "      <td>Hainan</td>\n",
              "      <td>Mainland China</td>\n",
              "      <td>1/22/2020 17:00</td>\n",
              "      <td>4.0</td>\n",
              "      <td>0.0</td>\n",
              "      <td>0.0</td>\n",
              "    </tr>\n",
              "    <tr>\n",
              "      <th>9</th>\n",
              "      <td>10</td>\n",
              "      <td>01/22/2020</td>\n",
              "      <td>Hebei</td>\n",
              "      <td>Mainland China</td>\n",
              "      <td>1/22/2020 17:00</td>\n",
              "      <td>1.0</td>\n",
              "      <td>0.0</td>\n",
              "      <td>0.0</td>\n",
              "    </tr>\n",
              "  </tbody>\n",
              "</table>\n",
              "</div>"
            ],
            "text/plain": [
              "   SNo ObservationDate Province/State  ... Confirmed Deaths  Recovered\n",
              "0    1      01/22/2020          Anhui  ...       1.0    0.0        0.0\n",
              "1    2      01/22/2020        Beijing  ...      14.0    0.0        0.0\n",
              "2    3      01/22/2020      Chongqing  ...       6.0    0.0        0.0\n",
              "3    4      01/22/2020         Fujian  ...       1.0    0.0        0.0\n",
              "4    5      01/22/2020          Gansu  ...       0.0    0.0        0.0\n",
              "5    6      01/22/2020      Guangdong  ...      26.0    0.0        0.0\n",
              "6    7      01/22/2020        Guangxi  ...       2.0    0.0        0.0\n",
              "7    8      01/22/2020        Guizhou  ...       1.0    0.0        0.0\n",
              "8    9      01/22/2020         Hainan  ...       4.0    0.0        0.0\n",
              "9   10      01/22/2020          Hebei  ...       1.0    0.0        0.0\n",
              "\n",
              "[10 rows x 8 columns]"
            ]
          },
          "metadata": {
            "tags": []
          },
          "execution_count": 3
        }
      ]
    },
    {
      "cell_type": "code",
      "metadata": {
        "colab": {
          "base_uri": "https://localhost:8080/"
        },
        "id": "CRP3uqNenT1I",
        "outputId": "1d3f664a-e50e-495d-c395-6cf5dc939fd7"
      },
      "source": [
        "#Checking for null values again\n",
        "\n",
        "df.isnull().sum()\n",
        "\n",
        "#now the dataset has no NA values"
      ],
      "execution_count": null,
      "outputs": [
        {
          "output_type": "execute_result",
          "data": {
            "text/plain": [
              "SNo                0\n",
              "ObservationDate    0\n",
              "Province/State     0\n",
              "Country/Region     0\n",
              "Last Update        0\n",
              "Confirmed          0\n",
              "Deaths             0\n",
              "Recovered          0\n",
              "dtype: int64"
            ]
          },
          "metadata": {
            "tags": []
          },
          "execution_count": 4
        }
      ]
    },
    {
      "cell_type": "code",
      "metadata": {
        "colab": {
          "base_uri": "https://localhost:8080/",
          "height": 170
        },
        "id": "FWzHlMbzvfL3",
        "outputId": "7b56bddd-7b69-4da6-e2e3-271e28c66123"
      },
      "source": [
        "df.corr(method = 'pearson')"
      ],
      "execution_count": null,
      "outputs": [
        {
          "output_type": "execute_result",
          "data": {
            "text/html": [
              "<div>\n",
              "<style scoped>\n",
              "    .dataframe tbody tr th:only-of-type {\n",
              "        vertical-align: middle;\n",
              "    }\n",
              "\n",
              "    .dataframe tbody tr th {\n",
              "        vertical-align: top;\n",
              "    }\n",
              "\n",
              "    .dataframe thead th {\n",
              "        text-align: right;\n",
              "    }\n",
              "</style>\n",
              "<table border=\"1\" class=\"dataframe\">\n",
              "  <thead>\n",
              "    <tr style=\"text-align: right;\">\n",
              "      <th></th>\n",
              "      <th>SNo</th>\n",
              "      <th>Confirmed</th>\n",
              "      <th>Deaths</th>\n",
              "      <th>Recovered</th>\n",
              "    </tr>\n",
              "  </thead>\n",
              "  <tbody>\n",
              "    <tr>\n",
              "      <th>SNo</th>\n",
              "      <td>1.000000</td>\n",
              "      <td>0.230194</td>\n",
              "      <td>0.170608</td>\n",
              "      <td>0.135387</td>\n",
              "    </tr>\n",
              "    <tr>\n",
              "      <th>Confirmed</th>\n",
              "      <td>0.230194</td>\n",
              "      <td>1.000000</td>\n",
              "      <td>0.848927</td>\n",
              "      <td>0.397691</td>\n",
              "    </tr>\n",
              "    <tr>\n",
              "      <th>Deaths</th>\n",
              "      <td>0.170608</td>\n",
              "      <td>0.848927</td>\n",
              "      <td>1.000000</td>\n",
              "      <td>0.338478</td>\n",
              "    </tr>\n",
              "    <tr>\n",
              "      <th>Recovered</th>\n",
              "      <td>0.135387</td>\n",
              "      <td>0.397691</td>\n",
              "      <td>0.338478</td>\n",
              "      <td>1.000000</td>\n",
              "    </tr>\n",
              "  </tbody>\n",
              "</table>\n",
              "</div>"
            ],
            "text/plain": [
              "                SNo  Confirmed    Deaths  Recovered\n",
              "SNo        1.000000   0.230194  0.170608   0.135387\n",
              "Confirmed  0.230194   1.000000  0.848927   0.397691\n",
              "Deaths     0.170608   0.848927  1.000000   0.338478\n",
              "Recovered  0.135387   0.397691  0.338478   1.000000"
            ]
          },
          "metadata": {
            "tags": []
          },
          "execution_count": 5
        }
      ]
    },
    {
      "cell_type": "markdown",
      "metadata": {
        "id": "h7JC2yA3X4_Z"
      },
      "source": [
        "Displaying top 8 Countries/Regions records"
      ]
    },
    {
      "cell_type": "code",
      "metadata": {
        "id": "0PTyJCnynT1J",
        "outputId": "62e6768d-373a-41b1-c932-dfaadf3ec50b"
      },
      "source": [
        "#Use sorting of data in dataframe to display topmost 5 or 8 records based on one or more column values\n",
        "#(conditional filtering)\n",
        "#Get frequency listing of any one relavant column \n",
        "\n",
        "\n",
        "data = df['Country/Region'].value_counts().sort_values(ascending = False)\n",
        "data.head(8)"
      ],
      "execution_count": null,
      "outputs": [
        {
          "output_type": "execute_result",
          "data": {
            "text/plain": [
              "US                11718\n",
              "Russia             8632\n",
              "Mainland China     7283\n",
              "Japan              5241\n",
              "Mexico             3712\n",
              "Colombia           3621\n",
              "India              3467\n",
              "Brazil             3151\n",
              "Name: Country/Region, dtype: int64"
            ]
          },
          "metadata": {
            "tags": []
          },
          "execution_count": 10
        }
      ]
    },
    {
      "cell_type": "markdown",
      "metadata": {
        "id": "uRC3PAqLX-pw"
      },
      "source": [
        "Finding out the total number of recorded updates for each Province/State"
      ]
    },
    {
      "cell_type": "code",
      "metadata": {
        "colab": {
          "base_uri": "https://localhost:8080/"
        },
        "id": "qnTds1pJnT1K",
        "outputId": "aa294d10-8d32-429d-fed9-0a9f0033c2b6"
      },
      "source": [
        "#Get frequency listing of any one relavant column \n",
        "#Use of group by on one or more columns\n",
        "#Use of appropriate aggregate functions with groupby.\n",
        "\n",
        "\n",
        "count = df.groupby(['Province/State']).size() \n",
        "count.head(10)"
      ],
      "execution_count": null,
      "outputs": [
        {
          "output_type": "execute_result",
          "data": {
            "text/plain": [
              "Province/State\n",
              " Montreal, QC           10\n",
              " Norfolk County, MA      5\n",
              "Abruzzo                122\n",
              "Acre                   116\n",
              "Adygea Republic        104\n",
              "Aguascalientes         116\n",
              "Aichi                  108\n",
              "Akita                  108\n",
              "Alabama                184\n",
              "Alagoas                116\n",
              "dtype: int64"
            ]
          },
          "metadata": {
            "tags": []
          },
          "execution_count": 72
        }
      ]
    },
    {
      "cell_type": "code",
      "metadata": {
        "id": "0wQeBnCznT1L"
      },
      "source": [
        "#Accessing particular row based on certain condition and displaying only one or few columns from it."
      ],
      "execution_count": null,
      "outputs": []
    },
    {
      "cell_type": "markdown",
      "metadata": {
        "id": "21kJ3tRCYA4B"
      },
      "source": [
        "Finding out the recovered cases in each Province/State in India"
      ]
    },
    {
      "cell_type": "code",
      "metadata": {
        "colab": {
          "base_uri": "https://localhost:8080/",
          "height": 359
        },
        "id": "WnvbmtOLnT1M",
        "outputId": "9c05543d-5d83-4001-dabe-53f85f16af3d"
      },
      "source": [
        "#Sorting of rows and columns,(explicit indexing - loc)\n",
        "#conditional filtering\n",
        "\n",
        "\n",
        "df.loc[df['Country/Region'] == 'India',['Province/State','Recovered']].head(10)"
      ],
      "execution_count": null,
      "outputs": [
        {
          "output_type": "execute_result",
          "data": {
            "text/html": [
              "<div>\n",
              "<style scoped>\n",
              "    .dataframe tbody tr th:only-of-type {\n",
              "        vertical-align: middle;\n",
              "    }\n",
              "\n",
              "    .dataframe tbody tr th {\n",
              "        vertical-align: top;\n",
              "    }\n",
              "\n",
              "    .dataframe thead th {\n",
              "        text-align: right;\n",
              "    }\n",
              "</style>\n",
              "<table border=\"1\" class=\"dataframe\">\n",
              "  <thead>\n",
              "    <tr style=\"text-align: right;\">\n",
              "      <th></th>\n",
              "      <th>Province/State</th>\n",
              "      <th>Recovered</th>\n",
              "    </tr>\n",
              "  </thead>\n",
              "  <tbody>\n",
              "    <tr>\n",
              "      <th>38811</th>\n",
              "      <td>Andaman and Nicobar Islands</td>\n",
              "      <td>33.0</td>\n",
              "    </tr>\n",
              "    <tr>\n",
              "      <th>38812</th>\n",
              "      <td>Andhra Pradesh</td>\n",
              "      <td>2802.0</td>\n",
              "    </tr>\n",
              "    <tr>\n",
              "      <th>38828</th>\n",
              "      <td>Arunachal Pradesh</td>\n",
              "      <td>1.0</td>\n",
              "    </tr>\n",
              "    <tr>\n",
              "      <th>38829</th>\n",
              "      <td>Assam</td>\n",
              "      <td>1085.0</td>\n",
              "    </tr>\n",
              "    <tr>\n",
              "      <th>38851</th>\n",
              "      <td>Bihar</td>\n",
              "      <td>2864.0</td>\n",
              "    </tr>\n",
              "    <tr>\n",
              "      <th>38884</th>\n",
              "      <td>Chandigarh</td>\n",
              "      <td>286.0</td>\n",
              "    </tr>\n",
              "    <tr>\n",
              "      <th>38891</th>\n",
              "      <td>Chhattisgarh</td>\n",
              "      <td>386.0</td>\n",
              "    </tr>\n",
              "    <tr>\n",
              "      <th>38910</th>\n",
              "      <td>Dadar Nagar Haveli</td>\n",
              "      <td>2.0</td>\n",
              "    </tr>\n",
              "    <tr>\n",
              "      <th>38914</th>\n",
              "      <td>Delhi</td>\n",
              "      <td>11861.0</td>\n",
              "    </tr>\n",
              "    <tr>\n",
              "      <th>38943</th>\n",
              "      <td>Goa</td>\n",
              "      <td>67.0</td>\n",
              "    </tr>\n",
              "  </tbody>\n",
              "</table>\n",
              "</div>"
            ],
            "text/plain": [
              "                    Province/State  Recovered\n",
              "38811  Andaman and Nicobar Islands       33.0\n",
              "38812               Andhra Pradesh     2802.0\n",
              "38828            Arunachal Pradesh        1.0\n",
              "38829                        Assam     1085.0\n",
              "38851                        Bihar     2864.0\n",
              "38884                   Chandigarh      286.0\n",
              "38891                 Chhattisgarh      386.0\n",
              "38910           Dadar Nagar Haveli        2.0\n",
              "38914                        Delhi    11861.0\n",
              "38943                          Goa       67.0"
            ]
          },
          "metadata": {
            "tags": []
          },
          "execution_count": 74
        }
      ]
    },
    {
      "cell_type": "markdown",
      "metadata": {
        "id": "eGSgWKfDYEWN"
      },
      "source": [
        "Segregating records for the state of Maharashtra only"
      ]
    },
    {
      "cell_type": "code",
      "metadata": {
        "colab": {
          "base_uri": "https://localhost:8080/",
          "height": 204
        },
        "id": "FA5JGnPsnT1N",
        "outputId": "5b335105-fbd9-4747-efba-84cfb78447dd"
      },
      "source": [
        "new = df.loc[(df['Country/Region']=='India') & (df['Province/State']=='Maharashtra')]\n",
        "new.head()"
      ],
      "execution_count": null,
      "outputs": [
        {
          "output_type": "execute_result",
          "data": {
            "text/html": [
              "<div>\n",
              "<style scoped>\n",
              "    .dataframe tbody tr th:only-of-type {\n",
              "        vertical-align: middle;\n",
              "    }\n",
              "\n",
              "    .dataframe tbody tr th {\n",
              "        vertical-align: top;\n",
              "    }\n",
              "\n",
              "    .dataframe thead th {\n",
              "        text-align: right;\n",
              "    }\n",
              "</style>\n",
              "<table border=\"1\" class=\"dataframe\">\n",
              "  <thead>\n",
              "    <tr style=\"text-align: right;\">\n",
              "      <th></th>\n",
              "      <th>SNo</th>\n",
              "      <th>ObservationDate</th>\n",
              "      <th>Province/State</th>\n",
              "      <th>Country/Region</th>\n",
              "      <th>Last Update</th>\n",
              "      <th>Confirmed</th>\n",
              "      <th>Deaths</th>\n",
              "      <th>Recovered</th>\n",
              "      <th>Active</th>\n",
              "    </tr>\n",
              "  </thead>\n",
              "  <tbody>\n",
              "    <tr>\n",
              "      <th>39066</th>\n",
              "      <td>39067</td>\n",
              "      <td>06/10/2020</td>\n",
              "      <td>Maharashtra</td>\n",
              "      <td>India</td>\n",
              "      <td>2020-06-11 03:33:41</td>\n",
              "      <td>90787.0</td>\n",
              "      <td>3289.0</td>\n",
              "      <td>42638.0</td>\n",
              "      <td>44860.0</td>\n",
              "    </tr>\n",
              "    <tr>\n",
              "      <th>39791</th>\n",
              "      <td>39792</td>\n",
              "      <td>06/11/2020</td>\n",
              "      <td>Maharashtra</td>\n",
              "      <td>India</td>\n",
              "      <td>2020-06-12 05:09:52</td>\n",
              "      <td>97648.0</td>\n",
              "      <td>3590.0</td>\n",
              "      <td>46078.0</td>\n",
              "      <td>47980.0</td>\n",
              "    </tr>\n",
              "    <tr>\n",
              "      <th>40520</th>\n",
              "      <td>40521</td>\n",
              "      <td>06/12/2020</td>\n",
              "      <td>Maharashtra</td>\n",
              "      <td>India</td>\n",
              "      <td>2020-06-13 03:33:14</td>\n",
              "      <td>97648.0</td>\n",
              "      <td>3590.0</td>\n",
              "      <td>46078.0</td>\n",
              "      <td>47980.0</td>\n",
              "    </tr>\n",
              "    <tr>\n",
              "      <th>41249</th>\n",
              "      <td>41250</td>\n",
              "      <td>06/13/2020</td>\n",
              "      <td>Maharashtra</td>\n",
              "      <td>India</td>\n",
              "      <td>2020-06-14 03:33:15</td>\n",
              "      <td>101141.0</td>\n",
              "      <td>3717.0</td>\n",
              "      <td>47796.0</td>\n",
              "      <td>49628.0</td>\n",
              "    </tr>\n",
              "    <tr>\n",
              "      <th>41978</th>\n",
              "      <td>41979</td>\n",
              "      <td>06/14/2020</td>\n",
              "      <td>Maharashtra</td>\n",
              "      <td>India</td>\n",
              "      <td>2020-06-15 03:33:14</td>\n",
              "      <td>104568.0</td>\n",
              "      <td>3830.0</td>\n",
              "      <td>49346.0</td>\n",
              "      <td>51392.0</td>\n",
              "    </tr>\n",
              "  </tbody>\n",
              "</table>\n",
              "</div>"
            ],
            "text/plain": [
              "         SNo ObservationDate Province/State  ...  Deaths Recovered   Active\n",
              "39066  39067      06/10/2020    Maharashtra  ...  3289.0   42638.0  44860.0\n",
              "39791  39792      06/11/2020    Maharashtra  ...  3590.0   46078.0  47980.0\n",
              "40520  40521      06/12/2020    Maharashtra  ...  3590.0   46078.0  47980.0\n",
              "41249  41250      06/13/2020    Maharashtra  ...  3717.0   47796.0  49628.0\n",
              "41978  41979      06/14/2020    Maharashtra  ...  3830.0   49346.0  51392.0\n",
              "\n",
              "[5 rows x 9 columns]"
            ]
          },
          "metadata": {
            "tags": []
          },
          "execution_count": 75
        }
      ]
    },
    {
      "cell_type": "markdown",
      "metadata": {
        "id": "5ueHw-6EYIm8"
      },
      "source": [
        "Finding out records in Maharasthra, India with Confimed cases > 100000"
      ]
    },
    {
      "cell_type": "code",
      "metadata": {
        "colab": {
          "base_uri": "https://localhost:8080/",
          "height": 204
        },
        "id": "dg-QFO8ynT1O",
        "outputId": "78b8321e-e7cc-412f-dd2f-0200db9b2224"
      },
      "source": [
        "#Selection on particular groups based on name or condition\n",
        "\n",
        "new2 = df.loc[(df['Country/Region']=='India') & (df['Province/State']=='Maharashtra') & (df['Confirmed']>100000)]\n",
        "new2.head()"
      ],
      "execution_count": null,
      "outputs": [
        {
          "output_type": "execute_result",
          "data": {
            "text/html": [
              "<div>\n",
              "<style scoped>\n",
              "    .dataframe tbody tr th:only-of-type {\n",
              "        vertical-align: middle;\n",
              "    }\n",
              "\n",
              "    .dataframe tbody tr th {\n",
              "        vertical-align: top;\n",
              "    }\n",
              "\n",
              "    .dataframe thead th {\n",
              "        text-align: right;\n",
              "    }\n",
              "</style>\n",
              "<table border=\"1\" class=\"dataframe\">\n",
              "  <thead>\n",
              "    <tr style=\"text-align: right;\">\n",
              "      <th></th>\n",
              "      <th>SNo</th>\n",
              "      <th>ObservationDate</th>\n",
              "      <th>Province/State</th>\n",
              "      <th>Country/Region</th>\n",
              "      <th>Last Update</th>\n",
              "      <th>Confirmed</th>\n",
              "      <th>Deaths</th>\n",
              "      <th>Recovered</th>\n",
              "      <th>Active</th>\n",
              "    </tr>\n",
              "  </thead>\n",
              "  <tbody>\n",
              "    <tr>\n",
              "      <th>41249</th>\n",
              "      <td>41250</td>\n",
              "      <td>06/13/2020</td>\n",
              "      <td>Maharashtra</td>\n",
              "      <td>India</td>\n",
              "      <td>2020-06-14 03:33:15</td>\n",
              "      <td>101141.0</td>\n",
              "      <td>3717.0</td>\n",
              "      <td>47796.0</td>\n",
              "      <td>49628.0</td>\n",
              "    </tr>\n",
              "    <tr>\n",
              "      <th>41978</th>\n",
              "      <td>41979</td>\n",
              "      <td>06/14/2020</td>\n",
              "      <td>Maharashtra</td>\n",
              "      <td>India</td>\n",
              "      <td>2020-06-15 03:33:14</td>\n",
              "      <td>104568.0</td>\n",
              "      <td>3830.0</td>\n",
              "      <td>49346.0</td>\n",
              "      <td>51392.0</td>\n",
              "    </tr>\n",
              "    <tr>\n",
              "      <th>42707</th>\n",
              "      <td>42708</td>\n",
              "      <td>06/15/2020</td>\n",
              "      <td>Maharashtra</td>\n",
              "      <td>India</td>\n",
              "      <td>2020-06-16 04:33:09</td>\n",
              "      <td>110744.0</td>\n",
              "      <td>4128.0</td>\n",
              "      <td>56049.0</td>\n",
              "      <td>50567.0</td>\n",
              "    </tr>\n",
              "    <tr>\n",
              "      <th>43436</th>\n",
              "      <td>43437</td>\n",
              "      <td>06/16/2020</td>\n",
              "      <td>Maharashtra</td>\n",
              "      <td>India</td>\n",
              "      <td>2020-06-17 04:33:21</td>\n",
              "      <td>113445.0</td>\n",
              "      <td>5537.0</td>\n",
              "      <td>57851.0</td>\n",
              "      <td>50057.0</td>\n",
              "    </tr>\n",
              "    <tr>\n",
              "      <th>44165</th>\n",
              "      <td>44166</td>\n",
              "      <td>06/17/2020</td>\n",
              "      <td>Maharashtra</td>\n",
              "      <td>India</td>\n",
              "      <td>2020-06-18 04:33:18</td>\n",
              "      <td>116752.0</td>\n",
              "      <td>5651.0</td>\n",
              "      <td>59166.0</td>\n",
              "      <td>51935.0</td>\n",
              "    </tr>\n",
              "  </tbody>\n",
              "</table>\n",
              "</div>"
            ],
            "text/plain": [
              "         SNo ObservationDate Province/State  ...  Deaths Recovered   Active\n",
              "41249  41250      06/13/2020    Maharashtra  ...  3717.0   47796.0  49628.0\n",
              "41978  41979      06/14/2020    Maharashtra  ...  3830.0   49346.0  51392.0\n",
              "42707  42708      06/15/2020    Maharashtra  ...  4128.0   56049.0  50567.0\n",
              "43436  43437      06/16/2020    Maharashtra  ...  5537.0   57851.0  50057.0\n",
              "44165  44166      06/17/2020    Maharashtra  ...  5651.0   59166.0  51935.0\n",
              "\n",
              "[5 rows x 9 columns]"
            ]
          },
          "metadata": {
            "tags": []
          },
          "execution_count": 76
        }
      ]
    },
    {
      "cell_type": "markdown",
      "metadata": {
        "id": "bssqVRB7YLp-"
      },
      "source": [
        "For figuring out the death count for every country/region "
      ]
    },
    {
      "cell_type": "code",
      "metadata": {
        "colab": {
          "base_uri": "https://localhost:8080/",
          "height": 390
        },
        "id": "fdZPlP-0nT1P",
        "outputId": "191120d5-a176-4577-8409-985d6bacb24c"
      },
      "source": [
        "#Sorting of rows and columns,(implicit - iloc)\n",
        "#Use of group by on one or more columns\n",
        "#Use of appropriate aggregate functions with groupby.\n",
        "\n",
        "d = df.iloc[:, [3,6]].groupby(df.iloc[:, 3]).sum()\n",
        "d.head(10)"
      ],
      "execution_count": null,
      "outputs": [
        {
          "output_type": "execute_result",
          "data": {
            "text/html": [
              "<div>\n",
              "<style scoped>\n",
              "    .dataframe tbody tr th:only-of-type {\n",
              "        vertical-align: middle;\n",
              "    }\n",
              "\n",
              "    .dataframe tbody tr th {\n",
              "        vertical-align: top;\n",
              "    }\n",
              "\n",
              "    .dataframe thead th {\n",
              "        text-align: right;\n",
              "    }\n",
              "</style>\n",
              "<table border=\"1\" class=\"dataframe\">\n",
              "  <thead>\n",
              "    <tr style=\"text-align: right;\">\n",
              "      <th></th>\n",
              "      <th>Deaths</th>\n",
              "    </tr>\n",
              "    <tr>\n",
              "      <th>Country/Region</th>\n",
              "      <th></th>\n",
              "    </tr>\n",
              "  </thead>\n",
              "  <tbody>\n",
              "    <tr>\n",
              "      <th>Australia</th>\n",
              "      <td>34247.0</td>\n",
              "    </tr>\n",
              "    <tr>\n",
              "      <th>Austria</th>\n",
              "      <td>0.0</td>\n",
              "    </tr>\n",
              "    <tr>\n",
              "      <th>Brazil</th>\n",
              "      <td>8883731.0</td>\n",
              "    </tr>\n",
              "    <tr>\n",
              "      <th>Canada</th>\n",
              "      <td>1127248.0</td>\n",
              "    </tr>\n",
              "    <tr>\n",
              "      <th>Chile</th>\n",
              "      <td>813018.0</td>\n",
              "    </tr>\n",
              "    <tr>\n",
              "      <th>Colombia</th>\n",
              "      <td>981134.0</td>\n",
              "    </tr>\n",
              "    <tr>\n",
              "      <th>Denmark</th>\n",
              "      <td>42.0</td>\n",
              "    </tr>\n",
              "    <tr>\n",
              "      <th>France</th>\n",
              "      <td>16206.0</td>\n",
              "    </tr>\n",
              "    <tr>\n",
              "      <th>Germany</th>\n",
              "      <td>1092019.0</td>\n",
              "    </tr>\n",
              "    <tr>\n",
              "      <th>Hong Kong</th>\n",
              "      <td>4067.0</td>\n",
              "    </tr>\n",
              "  </tbody>\n",
              "</table>\n",
              "</div>"
            ],
            "text/plain": [
              "                   Deaths\n",
              "Country/Region           \n",
              "Australia         34247.0\n",
              "Austria               0.0\n",
              "Brazil          8883731.0\n",
              "Canada          1127248.0\n",
              "Chile            813018.0\n",
              "Colombia         981134.0\n",
              "Denmark              42.0\n",
              "France            16206.0\n",
              "Germany         1092019.0\n",
              "Hong Kong          4067.0"
            ]
          },
          "metadata": {
            "tags": []
          },
          "execution_count": 77
        }
      ]
    },
    {
      "cell_type": "markdown",
      "metadata": {
        "id": "gwXiYGjaYSsH"
      },
      "source": [
        "Using iloc to find out Total Confirmed, Recovered and Death cases"
      ]
    },
    {
      "cell_type": "code",
      "metadata": {
        "colab": {
          "base_uri": "https://localhost:8080/",
          "height": 286
        },
        "id": "cs7DAJ6JS_3G",
        "outputId": "3602403f-57b7-47a2-a5fe-1782d09b66a9"
      },
      "source": [
        "# Group data by date\n",
        "date_grouped=df.groupby([\"ObservationDate\"]).agg({\"Confirmed\":'sum',\"Recovered\":'sum',\"Deaths\":'sum'})\n",
        "\n",
        "print('Total number of Confirmed cases around the world: %s' % date_grouped[\"Confirmed\"].iloc[-1])\n",
        "print('Total number of Recovered cases around the world: %s' % date_grouped[\"Recovered\"].iloc[-1])\n",
        "print('Total number of Death cases around the world: %s' % date_grouped[\"Deaths\"].iloc[-1])\n",
        "\n",
        "date_grouped.tail()"
      ],
      "execution_count": null,
      "outputs": [
        {
          "output_type": "stream",
          "text": [
            "Total number of Confirmed cases around the world: 58584503.0\n",
            "Total number of Recovered cases around the world: 28329567.0\n",
            "Total number of Death cases around the world: 1302878.0\n"
          ],
          "name": "stdout"
        },
        {
          "output_type": "execute_result",
          "data": {
            "text/html": [
              "<div>\n",
              "<style scoped>\n",
              "    .dataframe tbody tr th:only-of-type {\n",
              "        vertical-align: middle;\n",
              "    }\n",
              "\n",
              "    .dataframe tbody tr th {\n",
              "        vertical-align: top;\n",
              "    }\n",
              "\n",
              "    .dataframe thead th {\n",
              "        text-align: right;\n",
              "    }\n",
              "</style>\n",
              "<table border=\"1\" class=\"dataframe\">\n",
              "  <thead>\n",
              "    <tr style=\"text-align: right;\">\n",
              "      <th></th>\n",
              "      <th>Confirmed</th>\n",
              "      <th>Recovered</th>\n",
              "      <th>Deaths</th>\n",
              "    </tr>\n",
              "    <tr>\n",
              "      <th>ObservationDate</th>\n",
              "      <th></th>\n",
              "      <th></th>\n",
              "      <th></th>\n",
              "    </tr>\n",
              "  </thead>\n",
              "  <tbody>\n",
              "    <tr>\n",
              "      <th>12/27/2020</th>\n",
              "      <td>56673655.0</td>\n",
              "      <td>27617563.0</td>\n",
              "      <td>1265735.0</td>\n",
              "    </tr>\n",
              "    <tr>\n",
              "      <th>12/28/2020</th>\n",
              "      <td>57043735.0</td>\n",
              "      <td>27787903.0</td>\n",
              "      <td>1272055.0</td>\n",
              "    </tr>\n",
              "    <tr>\n",
              "      <th>12/29/2020</th>\n",
              "      <td>57536079.0</td>\n",
              "      <td>27983576.0</td>\n",
              "      <td>1282578.0</td>\n",
              "    </tr>\n",
              "    <tr>\n",
              "      <th>12/30/2020</th>\n",
              "      <td>58077528.0</td>\n",
              "      <td>28202934.0</td>\n",
              "      <td>1293492.0</td>\n",
              "    </tr>\n",
              "    <tr>\n",
              "      <th>12/31/2020</th>\n",
              "      <td>58584503.0</td>\n",
              "      <td>28329567.0</td>\n",
              "      <td>1302878.0</td>\n",
              "    </tr>\n",
              "  </tbody>\n",
              "</table>\n",
              "</div>"
            ],
            "text/plain": [
              "                  Confirmed   Recovered     Deaths\n",
              "ObservationDate                                   \n",
              "12/27/2020       56673655.0  27617563.0  1265735.0\n",
              "12/28/2020       57043735.0  27787903.0  1272055.0\n",
              "12/29/2020       57536079.0  27983576.0  1282578.0\n",
              "12/30/2020       58077528.0  28202934.0  1293492.0\n",
              "12/31/2020       58584503.0  28329567.0  1302878.0"
            ]
          },
          "metadata": {
            "tags": []
          },
          "execution_count": 22
        }
      ]
    },
    {
      "cell_type": "markdown",
      "metadata": {
        "id": "YKtze5JnYWop"
      },
      "source": [
        "Countries with Max/Min cases recorded "
      ]
    },
    {
      "cell_type": "code",
      "metadata": {
        "id": "efTqllhgnT1R",
        "colab": {
          "base_uri": "https://localhost:8080/"
        },
        "outputId": "c20220b0-e7d9-4ca3-f32f-e99666aabf6b"
      },
      "source": [
        "#Minimum and maximum values related analysis\n",
        "\n",
        "print('Country/Region with maximum cases ever recorded:',df['Country/Region'].max())\n",
        "print('Country/Region with minimum cases ever recorded:',df['Country/Region'].min())"
      ],
      "execution_count": null,
      "outputs": [
        {
          "output_type": "stream",
          "text": [
            "Country/Region with maximum cases ever recorded: Ukraine\n",
            "Country/Region with minimum cases ever recorded: Australia\n"
          ],
          "name": "stdout"
        }
      ]
    },
    {
      "cell_type": "markdown",
      "metadata": {
        "id": "LNLovN-jYd89"
      },
      "source": [
        "Active cases"
      ]
    },
    {
      "cell_type": "code",
      "metadata": {
        "colab": {
          "base_uri": "https://localhost:8080/",
          "height": 195
        },
        "id": "4HVwLCyInT1R",
        "outputId": "f284c721-e10e-41ba-f690-5768e04c2526"
      },
      "source": [
        "#Adding new column to existing dataframe and polulating same using existing columns data\n",
        "\n",
        "#Creating new column \"Active\" to calculate active cases\n",
        "#Active = Confirmed - Deaths - Recovered\n",
        "\n",
        "df['Active'] = df['Confirmed'] - df['Deaths'] - df['Recovered']\n",
        "df.head()"
      ],
      "execution_count": null,
      "outputs": [
        {
          "output_type": "execute_result",
          "data": {
            "text/html": [
              "<div>\n",
              "<style scoped>\n",
              "    .dataframe tbody tr th:only-of-type {\n",
              "        vertical-align: middle;\n",
              "    }\n",
              "\n",
              "    .dataframe tbody tr th {\n",
              "        vertical-align: top;\n",
              "    }\n",
              "\n",
              "    .dataframe thead th {\n",
              "        text-align: right;\n",
              "    }\n",
              "</style>\n",
              "<table border=\"1\" class=\"dataframe\">\n",
              "  <thead>\n",
              "    <tr style=\"text-align: right;\">\n",
              "      <th></th>\n",
              "      <th>SNo</th>\n",
              "      <th>ObservationDate</th>\n",
              "      <th>Province/State</th>\n",
              "      <th>Country/Region</th>\n",
              "      <th>Last Update</th>\n",
              "      <th>Confirmed</th>\n",
              "      <th>Deaths</th>\n",
              "      <th>Recovered</th>\n",
              "      <th>Active</th>\n",
              "    </tr>\n",
              "  </thead>\n",
              "  <tbody>\n",
              "    <tr>\n",
              "      <th>0</th>\n",
              "      <td>1</td>\n",
              "      <td>01/22/2020</td>\n",
              "      <td>Anhui</td>\n",
              "      <td>Mainland China</td>\n",
              "      <td>1/22/2020 17:00</td>\n",
              "      <td>1.0</td>\n",
              "      <td>0.0</td>\n",
              "      <td>0.0</td>\n",
              "      <td>1.0</td>\n",
              "    </tr>\n",
              "    <tr>\n",
              "      <th>1</th>\n",
              "      <td>2</td>\n",
              "      <td>01/22/2020</td>\n",
              "      <td>Beijing</td>\n",
              "      <td>Mainland China</td>\n",
              "      <td>1/22/2020 17:00</td>\n",
              "      <td>14.0</td>\n",
              "      <td>0.0</td>\n",
              "      <td>0.0</td>\n",
              "      <td>14.0</td>\n",
              "    </tr>\n",
              "    <tr>\n",
              "      <th>2</th>\n",
              "      <td>3</td>\n",
              "      <td>01/22/2020</td>\n",
              "      <td>Chongqing</td>\n",
              "      <td>Mainland China</td>\n",
              "      <td>1/22/2020 17:00</td>\n",
              "      <td>6.0</td>\n",
              "      <td>0.0</td>\n",
              "      <td>0.0</td>\n",
              "      <td>6.0</td>\n",
              "    </tr>\n",
              "    <tr>\n",
              "      <th>3</th>\n",
              "      <td>4</td>\n",
              "      <td>01/22/2020</td>\n",
              "      <td>Fujian</td>\n",
              "      <td>Mainland China</td>\n",
              "      <td>1/22/2020 17:00</td>\n",
              "      <td>1.0</td>\n",
              "      <td>0.0</td>\n",
              "      <td>0.0</td>\n",
              "      <td>1.0</td>\n",
              "    </tr>\n",
              "    <tr>\n",
              "      <th>4</th>\n",
              "      <td>5</td>\n",
              "      <td>01/22/2020</td>\n",
              "      <td>Gansu</td>\n",
              "      <td>Mainland China</td>\n",
              "      <td>1/22/2020 17:00</td>\n",
              "      <td>0.0</td>\n",
              "      <td>0.0</td>\n",
              "      <td>0.0</td>\n",
              "      <td>0.0</td>\n",
              "    </tr>\n",
              "  </tbody>\n",
              "</table>\n",
              "</div>"
            ],
            "text/plain": [
              "   SNo ObservationDate Province/State  ... Deaths Recovered  Active\n",
              "0    1      01/22/2020          Anhui  ...    0.0       0.0     1.0\n",
              "1    2      01/22/2020        Beijing  ...    0.0       0.0    14.0\n",
              "2    3      01/22/2020      Chongqing  ...    0.0       0.0     6.0\n",
              "3    4      01/22/2020         Fujian  ...    0.0       0.0     1.0\n",
              "4    5      01/22/2020          Gansu  ...    0.0       0.0     0.0\n",
              "\n",
              "[5 rows x 9 columns]"
            ]
          },
          "metadata": {
            "tags": []
          },
          "execution_count": 8
        }
      ]
    },
    {
      "cell_type": "markdown",
      "metadata": {
        "id": "SapcaxA2YkiO"
      },
      "source": [
        "Finding out places in US where Active cases are higher than 100000"
      ]
    },
    {
      "cell_type": "code",
      "metadata": {
        "id": "yt2L9y6onT1T",
        "scrolled": true,
        "colab": {
          "base_uri": "https://localhost:8080/",
          "height": 204
        },
        "outputId": "c32cc2ef-9f6a-4688-b9f5-64a4147cd77c"
      },
      "source": [
        "#Selection on particular groups based on name or condition\n",
        "\n",
        "a = df.loc[(df['Country/Region']=='US') & (df['Active']>100000)]\n",
        "a.head()"
      ],
      "execution_count": null,
      "outputs": [
        {
          "output_type": "execute_result",
          "data": {
            "text/html": [
              "<div>\n",
              "<style scoped>\n",
              "    .dataframe tbody tr th:only-of-type {\n",
              "        vertical-align: middle;\n",
              "    }\n",
              "\n",
              "    .dataframe tbody tr th {\n",
              "        vertical-align: top;\n",
              "    }\n",
              "\n",
              "    .dataframe thead th {\n",
              "        text-align: right;\n",
              "    }\n",
              "</style>\n",
              "<table border=\"1\" class=\"dataframe\">\n",
              "  <thead>\n",
              "    <tr style=\"text-align: right;\">\n",
              "      <th></th>\n",
              "      <th>SNo</th>\n",
              "      <th>ObservationDate</th>\n",
              "      <th>Province/State</th>\n",
              "      <th>Country/Region</th>\n",
              "      <th>Last Update</th>\n",
              "      <th>Confirmed</th>\n",
              "      <th>Deaths</th>\n",
              "      <th>Recovered</th>\n",
              "      <th>Active</th>\n",
              "    </tr>\n",
              "  </thead>\n",
              "  <tbody>\n",
              "    <tr>\n",
              "      <th>11594</th>\n",
              "      <td>11595</td>\n",
              "      <td>04/03/2020</td>\n",
              "      <td>New York</td>\n",
              "      <td>US</td>\n",
              "      <td>2020-04-03 22:52:45</td>\n",
              "      <td>102987.0</td>\n",
              "      <td>2935.0</td>\n",
              "      <td>0.0</td>\n",
              "      <td>100052.0</td>\n",
              "    </tr>\n",
              "    <tr>\n",
              "      <th>11913</th>\n",
              "      <td>11914</td>\n",
              "      <td>04/04/2020</td>\n",
              "      <td>New York</td>\n",
              "      <td>US</td>\n",
              "      <td>4/4/20 9:38</td>\n",
              "      <td>113833.0</td>\n",
              "      <td>3565.0</td>\n",
              "      <td>0.0</td>\n",
              "      <td>110268.0</td>\n",
              "    </tr>\n",
              "    <tr>\n",
              "      <th>12233</th>\n",
              "      <td>12234</td>\n",
              "      <td>04/05/2020</td>\n",
              "      <td>New York</td>\n",
              "      <td>US</td>\n",
              "      <td>2020-04-05 23:13:44</td>\n",
              "      <td>123160.0</td>\n",
              "      <td>4159.0</td>\n",
              "      <td>0.0</td>\n",
              "      <td>119001.0</td>\n",
              "    </tr>\n",
              "    <tr>\n",
              "      <th>12555</th>\n",
              "      <td>12556</td>\n",
              "      <td>04/06/2020</td>\n",
              "      <td>New York</td>\n",
              "      <td>US</td>\n",
              "      <td>4/6/20 9:37</td>\n",
              "      <td>131815.0</td>\n",
              "      <td>4698.0</td>\n",
              "      <td>0.0</td>\n",
              "      <td>127117.0</td>\n",
              "    </tr>\n",
              "    <tr>\n",
              "      <th>12877</th>\n",
              "      <td>12878</td>\n",
              "      <td>04/07/2020</td>\n",
              "      <td>New York</td>\n",
              "      <td>US</td>\n",
              "      <td>2020-04-07 23:11:31</td>\n",
              "      <td>139875.0</td>\n",
              "      <td>5489.0</td>\n",
              "      <td>0.0</td>\n",
              "      <td>134386.0</td>\n",
              "    </tr>\n",
              "  </tbody>\n",
              "</table>\n",
              "</div>"
            ],
            "text/plain": [
              "         SNo ObservationDate Province/State  ...  Deaths Recovered    Active\n",
              "11594  11595      04/03/2020       New York  ...  2935.0       0.0  100052.0\n",
              "11913  11914      04/04/2020       New York  ...  3565.0       0.0  110268.0\n",
              "12233  12234      04/05/2020       New York  ...  4159.0       0.0  119001.0\n",
              "12555  12556      04/06/2020       New York  ...  4698.0       0.0  127117.0\n",
              "12877  12878      04/07/2020       New York  ...  5489.0       0.0  134386.0\n",
              "\n",
              "[5 rows x 9 columns]"
            ]
          },
          "metadata": {
            "tags": []
          },
          "execution_count": 6
        }
      ]
    },
    {
      "cell_type": "markdown",
      "metadata": {
        "id": "6fhvX7QMYmYj"
      },
      "source": [
        "Finding what the correlation between the confirmed cases and death is"
      ]
    },
    {
      "cell_type": "code",
      "metadata": {
        "id": "KRjVf7JTnT1U",
        "outputId": "78576ce6-049e-4b89-d090-dbf179772583"
      },
      "source": [
        "#Find correlation between any two columns values.\n",
        "\n",
        "con_col = df['Confirmed']\n",
        "deaths_col = df['Deaths']\n",
        "\n",
        "correlation = con_col.corr(deaths_col)\n",
        "print(correlation)"
      ],
      "execution_count": null,
      "outputs": [
        {
          "output_type": "stream",
          "text": [
            "0.7581390522355758\n"
          ],
          "name": "stdout"
        }
      ]
    },
    {
      "cell_type": "markdown",
      "metadata": {
        "id": "PjHwHIS3YqF8"
      },
      "source": [
        "Normalization"
      ]
    },
    {
      "cell_type": "code",
      "metadata": {
        "colab": {
          "base_uri": "https://localhost:8080/"
        },
        "id": "OkXn-taWnT1V",
        "outputId": "6d47500a-a779-4b28-fdce-5ef101b7b94a"
      },
      "source": [
        "#Try transformation(normalization using any technique) on data set\n",
        "\n",
        "lowerlim=np.min(df['Active'])\n",
        "upperlim=np.max(df['Active'])\n",
        "limit=upperlim-lowerlim\n",
        "mean=np.mean(df['Active'])\n",
        "def myfunc(x,x_mean,xrange):\n",
        "    return (x-x_mean)/xrange\n",
        "print(df['Active'].apply(lambda x:myfunc(x,mean,limit)).head(10))"
      ],
      "execution_count": null,
      "outputs": [
        {
          "output_type": "stream",
          "text": [
            "0   -0.002135\n",
            "1   -0.002131\n",
            "2   -0.002133\n",
            "3   -0.002135\n",
            "4   -0.002135\n",
            "5   -0.002127\n",
            "6   -0.002134\n",
            "7   -0.002135\n",
            "8   -0.002134\n",
            "9   -0.002135\n",
            "Name: Active, dtype: float64\n"
          ],
          "name": "stdout"
        }
      ]
    },
    {
      "cell_type": "markdown",
      "metadata": {
        "id": "dvDjP1MqYs8O"
      },
      "source": [
        "Joining, merging and concatenation"
      ]
    },
    {
      "cell_type": "code",
      "metadata": {
        "id": "HC7kpp4znT1W",
        "outputId": "a9a76963-aae9-41e6-af16-0671dea2fe38"
      },
      "source": [
        "#Joining, merging and concatenation of data in dataframe.\n",
        "\n",
        "df1=pd.DataFrame({'ObservationDate':['06/13/2020'],'Country/Region':['India'],'Province/State':['Maharashtra'],'Confirmed':['48609']})\n",
        "df2=pd.DataFrame({'ObservationDate':['08/04/2020'],'Country/Region':['Russia'],'Province/State':['Altai'],'Confirmed':['2401']})\n",
        "df3=pd.DataFrame({'ObservationDate':['04/03/2020'],'Country/Region':['US'],'Province/State':['New York'],'Confirmed':['8000']})\n",
        "df4=pd.DataFrame({'ObservationDate1':['07/13/2020'],'Country/Region1':['India'],'Province/State1':['Kerela'],'Confirmed1':['48609']})\n",
        "\n",
        "\n",
        "#concatenation\n",
        "\n",
        "conn = pd.concat([df1,df3])\n",
        "conn\n"
      ],
      "execution_count": null,
      "outputs": [
        {
          "output_type": "execute_result",
          "data": {
            "text/html": [
              "<div>\n",
              "<style scoped>\n",
              "    .dataframe tbody tr th:only-of-type {\n",
              "        vertical-align: middle;\n",
              "    }\n",
              "\n",
              "    .dataframe tbody tr th {\n",
              "        vertical-align: top;\n",
              "    }\n",
              "\n",
              "    .dataframe thead th {\n",
              "        text-align: right;\n",
              "    }\n",
              "</style>\n",
              "<table border=\"1\" class=\"dataframe\">\n",
              "  <thead>\n",
              "    <tr style=\"text-align: right;\">\n",
              "      <th></th>\n",
              "      <th>ObservationDate</th>\n",
              "      <th>Country/Region</th>\n",
              "      <th>Province/State</th>\n",
              "      <th>Confirmed</th>\n",
              "    </tr>\n",
              "  </thead>\n",
              "  <tbody>\n",
              "    <tr>\n",
              "      <th>0</th>\n",
              "      <td>06/13/2020</td>\n",
              "      <td>India</td>\n",
              "      <td>Maharashtra</td>\n",
              "      <td>48609</td>\n",
              "    </tr>\n",
              "    <tr>\n",
              "      <th>0</th>\n",
              "      <td>04/03/2020</td>\n",
              "      <td>US</td>\n",
              "      <td>New York</td>\n",
              "      <td>8000</td>\n",
              "    </tr>\n",
              "  </tbody>\n",
              "</table>\n",
              "</div>"
            ],
            "text/plain": [
              "  ObservationDate Country/Region Province/State Confirmed\n",
              "0      06/13/2020          India    Maharashtra     48609\n",
              "0      04/03/2020             US       New York      8000"
            ]
          },
          "metadata": {
            "tags": []
          },
          "execution_count": 21
        }
      ]
    },
    {
      "cell_type": "code",
      "metadata": {
        "id": "6wiKFpqenT1X",
        "outputId": "a3fbc201-d181-4355-c7fb-644dfc91a064"
      },
      "source": [
        "#join\n",
        "\n",
        "df1.join(df4)"
      ],
      "execution_count": null,
      "outputs": [
        {
          "output_type": "execute_result",
          "data": {
            "text/html": [
              "<div>\n",
              "<style scoped>\n",
              "    .dataframe tbody tr th:only-of-type {\n",
              "        vertical-align: middle;\n",
              "    }\n",
              "\n",
              "    .dataframe tbody tr th {\n",
              "        vertical-align: top;\n",
              "    }\n",
              "\n",
              "    .dataframe thead th {\n",
              "        text-align: right;\n",
              "    }\n",
              "</style>\n",
              "<table border=\"1\" class=\"dataframe\">\n",
              "  <thead>\n",
              "    <tr style=\"text-align: right;\">\n",
              "      <th></th>\n",
              "      <th>ObservationDate</th>\n",
              "      <th>Country/Region</th>\n",
              "      <th>Province/State</th>\n",
              "      <th>Confirmed</th>\n",
              "      <th>ObservationDate1</th>\n",
              "      <th>Country/Region1</th>\n",
              "      <th>Province/State1</th>\n",
              "      <th>Confirmed1</th>\n",
              "    </tr>\n",
              "  </thead>\n",
              "  <tbody>\n",
              "    <tr>\n",
              "      <th>0</th>\n",
              "      <td>06/13/2020</td>\n",
              "      <td>India</td>\n",
              "      <td>Maharashtra</td>\n",
              "      <td>48609</td>\n",
              "      <td>07/13/2020</td>\n",
              "      <td>India</td>\n",
              "      <td>Kerela</td>\n",
              "      <td>48609</td>\n",
              "    </tr>\n",
              "  </tbody>\n",
              "</table>\n",
              "</div>"
            ],
            "text/plain": [
              "  ObservationDate Country/Region Province/State Confirmed ObservationDate1  \\\n",
              "0      06/13/2020          India    Maharashtra     48609       07/13/2020   \n",
              "\n",
              "  Country/Region1 Province/State1 Confirmed1  \n",
              "0           India          Kerela      48609  "
            ]
          },
          "metadata": {
            "tags": []
          },
          "execution_count": 22
        }
      ]
    },
    {
      "cell_type": "code",
      "metadata": {
        "id": "CMHf_GFknT1c",
        "outputId": "617a16ae-07c2-4d71-c1dc-cfcac7388c6b"
      },
      "source": [
        "#merge\n",
        "\n",
        "pd.merge(df1,df2,how='left')"
      ],
      "execution_count": null,
      "outputs": [
        {
          "output_type": "execute_result",
          "data": {
            "text/html": [
              "<div>\n",
              "<style scoped>\n",
              "    .dataframe tbody tr th:only-of-type {\n",
              "        vertical-align: middle;\n",
              "    }\n",
              "\n",
              "    .dataframe tbody tr th {\n",
              "        vertical-align: top;\n",
              "    }\n",
              "\n",
              "    .dataframe thead th {\n",
              "        text-align: right;\n",
              "    }\n",
              "</style>\n",
              "<table border=\"1\" class=\"dataframe\">\n",
              "  <thead>\n",
              "    <tr style=\"text-align: right;\">\n",
              "      <th></th>\n",
              "      <th>ObservationDate</th>\n",
              "      <th>Country/Region</th>\n",
              "      <th>Province/State</th>\n",
              "      <th>Confirmed</th>\n",
              "    </tr>\n",
              "  </thead>\n",
              "  <tbody>\n",
              "    <tr>\n",
              "      <th>0</th>\n",
              "      <td>06/13/2020</td>\n",
              "      <td>India</td>\n",
              "      <td>Maharashtra</td>\n",
              "      <td>48609</td>\n",
              "    </tr>\n",
              "  </tbody>\n",
              "</table>\n",
              "</div>"
            ],
            "text/plain": [
              "  ObservationDate Country/Region Province/State Confirmed\n",
              "0      06/13/2020          India    Maharashtra     48609"
            ]
          },
          "metadata": {
            "tags": []
          },
          "execution_count": 23
        }
      ]
    },
    {
      "cell_type": "markdown",
      "metadata": {
        "id": "kTRy_1IJnT1r"
      },
      "source": [
        "# Conclusions"
      ]
    },
    {
      "cell_type": "markdown",
      "metadata": {
        "id": "7XKPZdZIY8i0"
      },
      "source": [
        "1) Top 5 countries with the highest amount of records are US, Russia, Mainland China, Japan and Mexico with US topping the list\n",
        "\n",
        "2) India ranks at the 7th position for the same.\n",
        "\n",
        "3) Abruzzo, Italy has the highest number of recorded updates for each Province/State\n",
        "\n",
        "4) The total number of confirmed in the world :  28759036.0\n",
        "\n",
        "5) The total number of deaths in the world :  920231.0\n",
        "\n",
        "6) The total number of recovered in the world :  19439157.0\n",
        "\n",
        "7) Country/Region with maximum cases ever recorded: Ukraine\n",
        "\n",
        "8) Country/Region with minimum cases ever recorded: Australia\n",
        "\n",
        "9) The correlation between confirmed cases and deaths has been calculated as = 0.7581390522355758\n"
      ]
    },
    {
      "cell_type": "markdown",
      "metadata": {
        "id": "fCYzQD7feDNt"
      },
      "source": [
        "# Visualizations"
      ]
    },
    {
      "cell_type": "code",
      "metadata": {
        "id": "Sjlhc6JonT1e"
      },
      "source": [
        "#importing libraries for visualizations\n",
        "import matplotlib.pyplot as plt\n",
        "import numpy as np"
      ],
      "execution_count": null,
      "outputs": []
    },
    {
      "cell_type": "code",
      "metadata": {
        "colab": {
          "base_uri": "https://localhost:8080/",
          "height": 402
        },
        "id": "jP7YChl1hxVn",
        "outputId": "015c6a3f-4686-4e11-dbf2-1a570bcb6f54"
      },
      "source": [
        "#analysing a sample of 10000 random records from the dataset for the purpose of better visualization\n",
        "\n",
        "sam = df.sample(10000)\n",
        "sam"
      ],
      "execution_count": null,
      "outputs": [
        {
          "output_type": "execute_result",
          "data": {
            "text/html": [
              "<div>\n",
              "<style scoped>\n",
              "    .dataframe tbody tr th:only-of-type {\n",
              "        vertical-align: middle;\n",
              "    }\n",
              "\n",
              "    .dataframe tbody tr th {\n",
              "        vertical-align: top;\n",
              "    }\n",
              "\n",
              "    .dataframe thead th {\n",
              "        text-align: right;\n",
              "    }\n",
              "</style>\n",
              "<table border=\"1\" class=\"dataframe\">\n",
              "  <thead>\n",
              "    <tr style=\"text-align: right;\">\n",
              "      <th></th>\n",
              "      <th>SNo</th>\n",
              "      <th>ObservationDate</th>\n",
              "      <th>Province/State</th>\n",
              "      <th>Country/Region</th>\n",
              "      <th>Last Update</th>\n",
              "      <th>Confirmed</th>\n",
              "      <th>Deaths</th>\n",
              "      <th>Recovered</th>\n",
              "      <th>Active</th>\n",
              "    </tr>\n",
              "  </thead>\n",
              "  <tbody>\n",
              "    <tr>\n",
              "      <th>202664</th>\n",
              "      <td>202665</td>\n",
              "      <td>01/15/2021</td>\n",
              "      <td>Balochistan</td>\n",
              "      <td>Pakistan</td>\n",
              "      <td>2021-01-16 05:22:40</td>\n",
              "      <td>18537.0</td>\n",
              "      <td>190.0</td>\n",
              "      <td>18060.0</td>\n",
              "      <td>287.0</td>\n",
              "    </tr>\n",
              "    <tr>\n",
              "      <th>68780</th>\n",
              "      <td>68781</td>\n",
              "      <td>07/20/2020</td>\n",
              "      <td>Vologda Oblast</td>\n",
              "      <td>Russia</td>\n",
              "      <td>2020-07-21 04:38:46</td>\n",
              "      <td>2114.0</td>\n",
              "      <td>19.0</td>\n",
              "      <td>1629.0</td>\n",
              "      <td>466.0</td>\n",
              "    </tr>\n",
              "    <tr>\n",
              "      <th>211976</th>\n",
              "      <td>211977</td>\n",
              "      <td>01/27/2021</td>\n",
              "      <td>Iwate</td>\n",
              "      <td>Japan</td>\n",
              "      <td>2021-01-28 05:22:24</td>\n",
              "      <td>495.0</td>\n",
              "      <td>26.0</td>\n",
              "      <td>432.0</td>\n",
              "      <td>37.0</td>\n",
              "    </tr>\n",
              "    <tr>\n",
              "      <th>88677</th>\n",
              "      <td>88678</td>\n",
              "      <td>08/16/2020</td>\n",
              "      <td>Niigata</td>\n",
              "      <td>Japan</td>\n",
              "      <td>2020-08-17 04:27:20</td>\n",
              "      <td>128.0</td>\n",
              "      <td>0.0</td>\n",
              "      <td>121.0</td>\n",
              "      <td>7.0</td>\n",
              "    </tr>\n",
              "    <tr>\n",
              "      <th>170258</th>\n",
              "      <td>170259</td>\n",
              "      <td>12/03/2020</td>\n",
              "      <td>Oklahoma</td>\n",
              "      <td>US</td>\n",
              "      <td>2020-12-04 05:27:27</td>\n",
              "      <td>204048.0</td>\n",
              "      <td>1836.0</td>\n",
              "      <td>0.0</td>\n",
              "      <td>202212.0</td>\n",
              "    </tr>\n",
              "    <tr>\n",
              "      <th>...</th>\n",
              "      <td>...</td>\n",
              "      <td>...</td>\n",
              "      <td>...</td>\n",
              "      <td>...</td>\n",
              "      <td>...</td>\n",
              "      <td>...</td>\n",
              "      <td>...</td>\n",
              "      <td>...</td>\n",
              "      <td>...</td>\n",
              "    </tr>\n",
              "    <tr>\n",
              "      <th>183051</th>\n",
              "      <td>183052</td>\n",
              "      <td>12/20/2020</td>\n",
              "      <td>Kemerovo Oblast</td>\n",
              "      <td>Russia</td>\n",
              "      <td>2020-12-21 05:27:58</td>\n",
              "      <td>24150.0</td>\n",
              "      <td>445.0</td>\n",
              "      <td>20933.0</td>\n",
              "      <td>2772.0</td>\n",
              "    </tr>\n",
              "    <tr>\n",
              "      <th>79658</th>\n",
              "      <td>79659</td>\n",
              "      <td>08/04/2020</td>\n",
              "      <td>Ladakh</td>\n",
              "      <td>India</td>\n",
              "      <td>2020-08-05 04:34:43</td>\n",
              "      <td>1534.0</td>\n",
              "      <td>7.0</td>\n",
              "      <td>1127.0</td>\n",
              "      <td>400.0</td>\n",
              "    </tr>\n",
              "    <tr>\n",
              "      <th>234392</th>\n",
              "      <td>234393</td>\n",
              "      <td>02/25/2021</td>\n",
              "      <td>Tasmania</td>\n",
              "      <td>Australia</td>\n",
              "      <td>2021-02-26 05:22:40</td>\n",
              "      <td>234.0</td>\n",
              "      <td>13.0</td>\n",
              "      <td>221.0</td>\n",
              "      <td>0.0</td>\n",
              "    </tr>\n",
              "    <tr>\n",
              "      <th>206552</th>\n",
              "      <td>206553</td>\n",
              "      <td>01/20/2021</td>\n",
              "      <td>Donetsk Oblast</td>\n",
              "      <td>Ukraine</td>\n",
              "      <td>2021-01-21 05:22:01</td>\n",
              "      <td>42199.0</td>\n",
              "      <td>780.0</td>\n",
              "      <td>36075.0</td>\n",
              "      <td>5344.0</td>\n",
              "    </tr>\n",
              "    <tr>\n",
              "      <th>37164</th>\n",
              "      <td>37165</td>\n",
              "      <td>06/07/2020</td>\n",
              "      <td>Mayotte</td>\n",
              "      <td>France</td>\n",
              "      <td>2020-06-08 03:33:22</td>\n",
              "      <td>2079.0</td>\n",
              "      <td>25.0</td>\n",
              "      <td>1523.0</td>\n",
              "      <td>531.0</td>\n",
              "    </tr>\n",
              "  </tbody>\n",
              "</table>\n",
              "<p>10000 rows × 9 columns</p>\n",
              "</div>"
            ],
            "text/plain": [
              "           SNo ObservationDate   Province/State  ...  Deaths Recovered    Active\n",
              "202664  202665      01/15/2021      Balochistan  ...   190.0   18060.0     287.0\n",
              "68780    68781      07/20/2020   Vologda Oblast  ...    19.0    1629.0     466.0\n",
              "211976  211977      01/27/2021            Iwate  ...    26.0     432.0      37.0\n",
              "88677    88678      08/16/2020          Niigata  ...     0.0     121.0       7.0\n",
              "170258  170259      12/03/2020         Oklahoma  ...  1836.0       0.0  202212.0\n",
              "...        ...             ...              ...  ...     ...       ...       ...\n",
              "183051  183052      12/20/2020  Kemerovo Oblast  ...   445.0   20933.0    2772.0\n",
              "79658    79659      08/04/2020           Ladakh  ...     7.0    1127.0     400.0\n",
              "234392  234393      02/25/2021         Tasmania  ...    13.0     221.0       0.0\n",
              "206552  206553      01/20/2021   Donetsk Oblast  ...   780.0   36075.0    5344.0\n",
              "37164    37165      06/07/2020          Mayotte  ...    25.0    1523.0     531.0\n",
              "\n",
              "[10000 rows x 9 columns]"
            ]
          },
          "metadata": {
            "tags": []
          },
          "execution_count": 10
        }
      ]
    },
    {
      "cell_type": "code",
      "metadata": {
        "colab": {
          "base_uri": "https://localhost:8080/",
          "height": 405
        },
        "id": "zaVKXqMRcq1K",
        "outputId": "db2516a1-97bc-4cd5-e413-1824c53b7740"
      },
      "source": [
        "# Visualization to summarize your data set (frequency plot)\n",
        "sam['Country/Region'].value_counts().plot(kind=\"bar\",color='purple',figsize=(10,5))\n",
        "plt.legend()"
      ],
      "execution_count": null,
      "outputs": [
        {
          "output_type": "execute_result",
          "data": {
            "text/plain": [
              "<matplotlib.legend.Legend at 0x7fab335f2750>"
            ]
          },
          "metadata": {
            "tags": []
          },
          "execution_count": 10
        },
        {
          "output_type": "display_data",
          "data": {
            "image/png": "[encoded data removed]",
            "text/plain": [
              "<Figure size 720x360 with 1 Axes>"
            ]
          },
          "metadata": {
            "tags": [],
            "needs_background": "light"
          }
        }
      ]
    },
    {
      "cell_type": "markdown",
      "metadata": {
        "id": "V3ap2Df3jLpc"
      },
      "source": [
        "Comparing total world cases and India cases with a bar plot"
      ]
    },
    {
      "cell_type": "code",
      "metadata": {
        "colab": {
          "base_uri": "https://localhost:8080/",
          "height": 341
        },
        "id": "LmUMlXUVjSfV",
        "outputId": "96353e28-af55-4751-9e74-ec754f3e1379"
      },
      "source": [
        "total_world_cases = np.sum(df['Confirmed'])\n",
        "india_confirmed = df[df['Country/Region']=='India']['Confirmed'].sum()\n",
        "outside_india_confirmed = total_world_cases - india_confirmed\n",
        "\n",
        "plt.figure(figsize=(5, 5))\n",
        "plt.bar('India', india_confirmed/total_world_cases)\n",
        "plt.bar('Outside India', outside_india_confirmed/total_world_cases)\n",
        "plt.title('Coronavirus Confirmed Cases Expressed In %', size=20)\n",
        "plt.xticks(size=10)\n",
        "plt.yticks(size=10)\n",
        "plt.show()"
      ],
      "execution_count": null,
      "outputs": [
        {
          "output_type": "display_data",
          "data": {
            "image/png": "[encoded data removed]",
            "text/plain": [
              "<Figure size 360x360 with 1 Axes>"
            ]
          },
          "metadata": {
            "tags": [],
            "needs_background": "light"
          }
        }
      ]
    },
    {
      "cell_type": "code",
      "metadata": {
        "colab": {
          "base_uri": "https://localhost:8080/"
        },
        "id": "XnzJu-GkKgO3",
        "outputId": "fb5bf246-5fa2-4ceb-ece2-3154b9a94139"
      },
      "source": [
        "print('Outside India - {} cases ({}%)'.format(outside_india_confirmed, np.round((outside_india_confirmed/total_world_cases)*100, 1)))\n",
        "print('India  -  {} cases - ({}%)'.format(india_confirmed, np.round((india_confirmed/total_world_cases)*100, 1)))\n",
        "print('Total - {} cases'.format(total_world_cases))"
      ],
      "execution_count": null,
      "outputs": [
        {
          "output_type": "stream",
          "text": [
            "Outside India - 7861433967.0 cases (82.2%)\n",
            "India  -  1700177904.0 cases - (17.8%)\n",
            "Total - 9561611871.0 cases\n"
          ],
          "name": "stdout"
        }
      ]
    },
    {
      "cell_type": "markdown",
      "metadata": {
        "id": "eZRYQQk4IYH3"
      },
      "source": [
        "Using a bar plot to analyse Confirmed cases in various Provinces/State of China"
      ]
    },
    {
      "cell_type": "code",
      "metadata": {
        "colab": {
          "base_uri": "https://localhost:8080/",
          "height": 478
        },
        "id": "dCukkJ2M7RgI",
        "outputId": "fabd92af-33d3-41e3-8293-a224abb24e6d"
      },
      "source": [
        "data_china = sam[(sam[\"Country/Region\"] == \"Mainland China\")]  # filtering dataframe for China\n",
        "x = plt.subplots(figsize=(20,7)) \n",
        "plt.bar(data_china[\"Province/State\"],data_china[\"Confirmed\"])\n",
        "plt.xticks(rotation=45)\n",
        "plt.ylabel('Confirmed Cases')\n",
        "plt.show()"
      ],
      "execution_count": null,
      "outputs": [
        {
          "output_type": "display_data",
          "data": {
            "image/png": "[encoded data removed]",
            "text/plain": [
              "<Figure size 1440x504 with 1 Axes>"
            ]
          },
          "metadata": {
            "tags": [],
            "needs_background": "light"
          }
        }
      ]
    },
    {
      "cell_type": "code",
      "metadata": {
        "colab": {
          "base_uri": "https://localhost:8080/",
          "height": 338
        },
        "id": "x4nNE6Ao__EN",
        "outputId": "a617d3ef-68b6-477b-9ab3-7a7c0ec47bec"
      },
      "source": [
        "# Visualization to summarize your data set (density plot)\n",
        "\n",
        "sam.groupby(['Country/Region']).size().plot(kind='kde',figsize=(5,5))"
      ],
      "execution_count": null,
      "outputs": [
        {
          "output_type": "execute_result",
          "data": {
            "text/plain": [
              "<matplotlib.axes._subplots.AxesSubplot at 0x7fab1feb4510>"
            ]
          },
          "metadata": {
            "tags": []
          },
          "execution_count": 104
        },
        {
          "output_type": "display_data",
          "data": {
            "image/png": "[encoded data removed]",
            "text/plain": [
              "<Figure size 360x360 with 1 Axes>"
            ]
          },
          "metadata": {
            "tags": [],
            "needs_background": "light"
          }
        }
      ]
    },
    {
      "cell_type": "code",
      "metadata": {
        "colab": {
          "base_uri": "https://localhost:8080/",
          "height": 694
        },
        "id": "8iWogbyRkrW7",
        "outputId": "e64fef57-abd8-4459-ee5c-d697fa0bad83"
      },
      "source": [
        "#Measures of central tenancy of data set (mean etc)\n",
        "x1=df.groupby(['Country/Region']).agg({'Confirmed':'mean'})\n",
        "x1.plot(kind='bar',color=[\"blue\"])\n",
        "plt.legend(loc =\"upper right\")\n",
        "plt.grid()\n",
        "\n",
        "#Measures of central tenancy of data set (median etc)\n",
        "x1=df.groupby(['Country/Region']).agg({'Recovered':'median'})\n",
        "x1.plot(kind='bar',color=[\"magenta\"])\n",
        "plt.legend(loc =\"upper right\")"
      ],
      "execution_count": null,
      "outputs": [
        {
          "output_type": "execute_result",
          "data": {
            "text/plain": [
              "<matplotlib.legend.Legend at 0x7f21adceea90>"
            ]
          },
          "metadata": {
            "tags": []
          },
          "execution_count": 21
        },
        {
          "output_type": "display_data",
          "data": {
            "image/png": "[encoded data removed]",
            "text/plain": [
              "<Figure size 432x288 with 1 Axes>"
            ]
          },
          "metadata": {
            "tags": [],
            "needs_background": "light"
          }
        },
        {
          "output_type": "display_data",
          "data": {
            "image/png": "[encoded data removed]",
            "text/plain": [
              "<Figure size 432x288 with 1 Axes>"
            ]
          },
          "metadata": {
            "tags": [],
            "needs_background": "light"
          }
        }
      ]
    },
    {
      "cell_type": "code",
      "metadata": {
        "id": "GK6C9DWDIynC"
      },
      "source": [
        "Scatter plots for Deaths and Confirmed cases as well as Recovered and Confirmed Cases\n",
        "#Correlation of attributes in your dataset"
      ],
      "execution_count": null,
      "outputs": []
    },
    {
      "cell_type": "code",
      "metadata": {
        "colab": {
          "base_uri": "https://localhost:8080/",
          "height": 350
        },
        "id": "0NdyUIGu2DgV",
        "outputId": "1efd1270-7d0a-486f-eefa-be3ac9db23f8"
      },
      "source": [
        "data_india = sam[sam[\"Country/Region\"]== \"India\"]\n",
        "data_india.plot(kind = \"scatter\", x='Confirmed',y='Deaths',grid = True,color = \"red\", s = 10 ,figsize=(5,5))\n",
        "plt.xlabel('Confirmed')             \n",
        "plt.ylabel('Deaths')\n",
        "plt.title('Scatter Plot - Deaths & Confirmed')  \n",
        "plt.show()"
      ],
      "execution_count": null,
      "outputs": [
        {
          "output_type": "display_data",
          "data": {
            "image/png": "[encoded data removed]",
            "text/plain": [
              "<Figure size 360x360 with 1 Axes>"
            ]
          },
          "metadata": {
            "tags": [],
            "needs_background": "light"
          }
        }
      ]
    },
    {
      "cell_type": "code",
      "metadata": {
        "colab": {
          "base_uri": "https://localhost:8080/",
          "height": 350
        },
        "id": "3fayqof6oCvN",
        "outputId": "cf798cce-df91-4846-8d12-43f90a45f90d"
      },
      "source": [
        "data_india.plot(kind = \"scatter\", x='Confirmed',y='Recovered',grid = True,color = \"green\", s = 10 ,figsize=(5,5))\n",
        "plt.xlabel('Confirmed')             \n",
        "plt.ylabel('Recovered')\n",
        "plt.title('Scatter Plot - Deaths & Recovered')  \n",
        "plt.show()"
      ],
      "execution_count": null,
      "outputs": [
        {
          "output_type": "display_data",
          "data": {
            "image/png": "[encoded data removed]",
            "text/plain": [
              "<Figure size 360x360 with 1 Axes>"
            ]
          },
          "metadata": {
            "tags": [],
            "needs_background": "light"
          }
        }
      ]
    },
    {
      "cell_type": "code",
      "metadata": {
        "colab": {
          "base_uri": "https://localhost:8080/",
          "height": 417
        },
        "id": "mHtaCKuMoZ7R",
        "outputId": "5bf91ff8-a38b-4c0d-d5c1-b6ca572d1c60"
      },
      "source": [
        "#Determining presence of outliers in your dataset(boxplot)\n",
        "\n",
        "plt.boxplot(sam['Confirmed'],patch_artist = True)"
      ],
      "execution_count": null,
      "outputs": [
        {
          "output_type": "execute_result",
          "data": {
            "text/plain": [
              "{'boxes': [<matplotlib.patches.PathPatch at 0x7fab1f077310>],\n",
              " 'caps': [<matplotlib.lines.Line2D at 0x7fab1f072790>,\n",
              "  <matplotlib.lines.Line2D at 0x7fab1f072cd0>],\n",
              " 'fliers': [<matplotlib.lines.Line2D at 0x7fab1f05a7d0>],\n",
              " 'means': [],\n",
              " 'medians': [<matplotlib.lines.Line2D at 0x7fab1f05a250>],\n",
              " 'whiskers': [<matplotlib.lines.Line2D at 0x7fab1f3bbad0>,\n",
              "  <matplotlib.lines.Line2D at 0x7fab1f072250>]}"
            ]
          },
          "metadata": {
            "tags": []
          },
          "execution_count": 108
        },
        {
          "output_type": "display_data",
          "data": {
            "image/png": "[encoded data removed]",
            "text/plain": [
              "<Figure size 432x288 with 1 Axes>"
            ]
          },
          "metadata": {
            "tags": [],
            "needs_background": "light"
          }
        }
      ]
    },
    {
      "cell_type": "code",
      "metadata": {
        "colab": {
          "base_uri": "https://localhost:8080/",
          "height": 406
        },
        "id": "RFPxMKYahOau",
        "outputId": "47e6efe0-28ba-4258-f2e2-53670b945d77"
      },
      "source": [
        "# Determining presence of outliers in your dataset(boxplot)\n",
        "plt.boxplot(sam['Deaths'],patch_artist = True)"
      ],
      "execution_count": null,
      "outputs": [
        {
          "output_type": "execute_result",
          "data": {
            "text/plain": [
              "{'boxes': [<matplotlib.patches.PathPatch at 0x7fab1f23d410>],\n",
              " 'caps': [<matplotlib.lines.Line2D at 0x7fab1f248e90>,\n",
              "  <matplotlib.lines.Line2D at 0x7fab1f235410>],\n",
              " 'fliers': [<matplotlib.lines.Line2D at 0x7fab1f235ed0>],\n",
              " 'means': [],\n",
              " 'medians': [<matplotlib.lines.Line2D at 0x7fab1f235950>],\n",
              " 'whiskers': [<matplotlib.lines.Line2D at 0x7fab1f0fc450>,\n",
              "  <matplotlib.lines.Line2D at 0x7fab1f248950>]}"
            ]
          },
          "metadata": {
            "tags": []
          },
          "execution_count": 109
        },
        {
          "output_type": "display_data",
          "data": {
            "image/png": "[encoded data removed]",
            "text/plain": [
              "<Figure size 432x288 with 1 Axes>"
            ]
          },
          "metadata": {
            "tags": [],
            "needs_background": "light"
          }
        }
      ]
    },
    {
      "cell_type": "code",
      "metadata": {
        "id": "EZJig1OYvlgt",
        "colab": {
          "base_uri": "https://localhost:8080/"
        },
        "outputId": "6a21fb7c-a028-43db-b770-710c9b28da5a"
      },
      "source": [
        "#Using Inter Quartile Range method to take care of outliers \n",
        "\n",
        "Q1 = sam.quantile(0.25)\n",
        "Q3 = sam.quantile(0.75)\n",
        "IQR = Q3 - Q1\n",
        "print(IQR)"
      ],
      "execution_count": null,
      "outputs": [
        {
          "output_type": "stream",
          "text": [
            "SNo          111078.75\n",
            "Confirmed     32658.25\n",
            "Deaths          979.00\n",
            "Recovered     10429.75\n",
            "Active         9686.50\n",
            "dtype: float64\n"
          ],
          "name": "stdout"
        }
      ]
    },
    {
      "cell_type": "code",
      "metadata": {
        "colab": {
          "base_uri": "https://localhost:8080/"
        },
        "id": "PPtBfBbsxBDy",
        "outputId": "09d6f171-e44e-42d1-e7f4-5c587f5d5ff6"
      },
      "source": [
        "#shape of the sample data before\n",
        "sam.shape"
      ],
      "execution_count": null,
      "outputs": [
        {
          "output_type": "execute_result",
          "data": {
            "text/plain": [
              "(10000, 9)"
            ]
          },
          "metadata": {
            "tags": []
          },
          "execution_count": 9
        }
      ]
    },
    {
      "cell_type": "code",
      "metadata": {
        "colab": {
          "base_uri": "https://localhost:8080/"
        },
        "id": "KltlOZAMw6JZ",
        "outputId": "a9343e67-21b9-4405-b656-f44b3ce1dda1"
      },
      "source": [
        "sam_out = sam[~((sam < (Q1 - 1.5 * IQR)) |(sam > (Q3 + 1.5 * IQR))).any(axis=1)]\n",
        "sam_out.shape"
      ],
      "execution_count": null,
      "outputs": [
        {
          "output_type": "execute_result",
          "data": {
            "text/plain": [
              "(7175, 9)"
            ]
          },
          "metadata": {
            "tags": []
          },
          "execution_count": 98
        }
      ]
    },
    {
      "cell_type": "markdown",
      "metadata": {
        "id": "UZ-xQlb-H-fy"
      },
      "source": [
        "Now, the outliers have been cleared"
      ]
    },
    {
      "cell_type": "code",
      "metadata": {
        "id": "qhCSOtsCi-D9",
        "colab": {
          "base_uri": "https://localhost:8080/",
          "height": 373
        },
        "outputId": "10ccba48-07ef-4e60-fbb9-70e34afab5b5"
      },
      "source": [
        "# Group data by country\n",
        "country_grouped=df.groupby(['Country/Region','ObservationDate']).agg({\"Confirmed\":'sum',\"Recovered\":'sum',\"Deaths\":'sum'})\n",
        "\n",
        "# get total sum of each country\n",
        "total_sum_country = country_grouped.groupby(['Country/Region']).tail(1)\n",
        "total_sum_country.tail(10)"
      ],
      "execution_count": null,
      "outputs": [
        {
          "output_type": "execute_result",
          "data": {
            "text/html": [
              "<div>\n",
              "<style scoped>\n",
              "    .dataframe tbody tr th:only-of-type {\n",
              "        vertical-align: middle;\n",
              "    }\n",
              "\n",
              "    .dataframe tbody tr th {\n",
              "        vertical-align: top;\n",
              "    }\n",
              "\n",
              "    .dataframe thead th {\n",
              "        text-align: right;\n",
              "    }\n",
              "</style>\n",
              "<table border=\"1\" class=\"dataframe\">\n",
              "  <thead>\n",
              "    <tr style=\"text-align: right;\">\n",
              "      <th></th>\n",
              "      <th></th>\n",
              "      <th>Confirmed</th>\n",
              "      <th>Recovered</th>\n",
              "      <th>Deaths</th>\n",
              "    </tr>\n",
              "    <tr>\n",
              "      <th>Country/Region</th>\n",
              "      <th>ObservationDate</th>\n",
              "      <th></th>\n",
              "      <th></th>\n",
              "      <th></th>\n",
              "    </tr>\n",
              "  </thead>\n",
              "  <tbody>\n",
              "    <tr>\n",
              "      <th>Others</th>\n",
              "      <th>03/23/2020</th>\n",
              "      <td>712.0</td>\n",
              "      <td>567.0</td>\n",
              "      <td>8.0</td>\n",
              "    </tr>\n",
              "    <tr>\n",
              "      <th>Pakistan</th>\n",
              "      <th>12/31/2020</th>\n",
              "      <td>482178.0</td>\n",
              "      <td>437229.0</td>\n",
              "      <td>10176.0</td>\n",
              "    </tr>\n",
              "    <tr>\n",
              "      <th>Peru</th>\n",
              "      <th>12/31/2020</th>\n",
              "      <td>1015137.0</td>\n",
              "      <td>951318.0</td>\n",
              "      <td>37680.0</td>\n",
              "    </tr>\n",
              "    <tr>\n",
              "      <th>Russia</th>\n",
              "      <th>12/31/2020</th>\n",
              "      <td>3127347.0</td>\n",
              "      <td>2527722.0</td>\n",
              "      <td>56271.0</td>\n",
              "    </tr>\n",
              "    <tr>\n",
              "      <th>Spain</th>\n",
              "      <th>12/31/2020</th>\n",
              "      <td>1928265.0</td>\n",
              "      <td>150376.0</td>\n",
              "      <td>50837.0</td>\n",
              "    </tr>\n",
              "    <tr>\n",
              "      <th>Sweden</th>\n",
              "      <th>12/31/2020</th>\n",
              "      <td>437379.0</td>\n",
              "      <td>0.0</td>\n",
              "      <td>8727.0</td>\n",
              "    </tr>\n",
              "    <tr>\n",
              "      <th>Taiwan</th>\n",
              "      <th>03/10/2020</th>\n",
              "      <td>47.0</td>\n",
              "      <td>17.0</td>\n",
              "      <td>1.0</td>\n",
              "    </tr>\n",
              "    <tr>\n",
              "      <th>UK</th>\n",
              "      <th>12/31/2020</th>\n",
              "      <td>2496235.0</td>\n",
              "      <td>5482.0</td>\n",
              "      <td>73622.0</td>\n",
              "    </tr>\n",
              "    <tr>\n",
              "      <th>US</th>\n",
              "      <th>12/31/2020</th>\n",
              "      <td>20061903.0</td>\n",
              "      <td>0.0</td>\n",
              "      <td>352729.0</td>\n",
              "    </tr>\n",
              "    <tr>\n",
              "      <th>Ukraine</th>\n",
              "      <th>12/31/2020</th>\n",
              "      <td>1086997.0</td>\n",
              "      <td>736611.0</td>\n",
              "      <td>19281.0</td>\n",
              "    </tr>\n",
              "  </tbody>\n",
              "</table>\n",
              "</div>"
            ],
            "text/plain": [
              "                                 Confirmed  Recovered    Deaths\n",
              "Country/Region ObservationDate                                 \n",
              "Others         03/23/2020            712.0      567.0       8.0\n",
              "Pakistan       12/31/2020         482178.0   437229.0   10176.0\n",
              "Peru           12/31/2020        1015137.0   951318.0   37680.0\n",
              "Russia         12/31/2020        3127347.0  2527722.0   56271.0\n",
              "Spain          12/31/2020        1928265.0   150376.0   50837.0\n",
              "Sweden         12/31/2020         437379.0        0.0    8727.0\n",
              "Taiwan         03/10/2020             47.0       17.0       1.0\n",
              "UK             12/31/2020        2496235.0     5482.0   73622.0\n",
              "US             12/31/2020       20061903.0        0.0  352729.0\n",
              "Ukraine        12/31/2020        1086997.0   736611.0   19281.0"
            ]
          },
          "metadata": {
            "tags": []
          },
          "execution_count": 10
        }
      ]
    },
    {
      "cell_type": "code",
      "metadata": {
        "colab": {
          "base_uri": "https://localhost:8080/",
          "height": 343
        },
        "id": "NB4Az5PcNneu",
        "outputId": "e6a34e9c-3d16-408c-f38f-8fb1ba7fc7f4"
      },
      "source": [
        "total_sum_country = total_sum_country.reset_index()\n",
        "top_10_confirmed_country = total_sum_country.sort_values(by=['Confirmed'],ascending=False).head(10)\n",
        "top_10_confirmed_country"
      ],
      "execution_count": null,
      "outputs": [
        {
          "output_type": "execute_result",
          "data": {
            "text/html": [
              "<div>\n",
              "<style scoped>\n",
              "    .dataframe tbody tr th:only-of-type {\n",
              "        vertical-align: middle;\n",
              "    }\n",
              "\n",
              "    .dataframe tbody tr th {\n",
              "        vertical-align: top;\n",
              "    }\n",
              "\n",
              "    .dataframe thead th {\n",
              "        text-align: right;\n",
              "    }\n",
              "</style>\n",
              "<table border=\"1\" class=\"dataframe\">\n",
              "  <thead>\n",
              "    <tr style=\"text-align: right;\">\n",
              "      <th></th>\n",
              "      <th>index</th>\n",
              "      <th>Country/Region</th>\n",
              "      <th>ObservationDate</th>\n",
              "      <th>Confirmed</th>\n",
              "      <th>Recovered</th>\n",
              "      <th>Deaths</th>\n",
              "    </tr>\n",
              "  </thead>\n",
              "  <tbody>\n",
              "    <tr>\n",
              "      <th>29</th>\n",
              "      <td>29</td>\n",
              "      <td>US</td>\n",
              "      <td>12/31/2020</td>\n",
              "      <td>20061903.0</td>\n",
              "      <td>0.0</td>\n",
              "      <td>352729.0</td>\n",
              "    </tr>\n",
              "    <tr>\n",
              "      <th>11</th>\n",
              "      <td>11</td>\n",
              "      <td>India</td>\n",
              "      <td>12/31/2020</td>\n",
              "      <td>10266674.0</td>\n",
              "      <td>9860280.0</td>\n",
              "      <td>148738.0</td>\n",
              "    </tr>\n",
              "    <tr>\n",
              "      <th>3</th>\n",
              "      <td>3</td>\n",
              "      <td>Brazil</td>\n",
              "      <td>12/31/2020</td>\n",
              "      <td>7675973.0</td>\n",
              "      <td>6848844.0</td>\n",
              "      <td>194949.0</td>\n",
              "    </tr>\n",
              "    <tr>\n",
              "      <th>24</th>\n",
              "      <td>24</td>\n",
              "      <td>Russia</td>\n",
              "      <td>12/31/2020</td>\n",
              "      <td>3127347.0</td>\n",
              "      <td>2527722.0</td>\n",
              "      <td>56271.0</td>\n",
              "    </tr>\n",
              "    <tr>\n",
              "      <th>28</th>\n",
              "      <td>28</td>\n",
              "      <td>UK</td>\n",
              "      <td>12/31/2020</td>\n",
              "      <td>2496235.0</td>\n",
              "      <td>5482.0</td>\n",
              "      <td>73622.0</td>\n",
              "    </tr>\n",
              "    <tr>\n",
              "      <th>14</th>\n",
              "      <td>14</td>\n",
              "      <td>Italy</td>\n",
              "      <td>12/31/2020</td>\n",
              "      <td>2107166.0</td>\n",
              "      <td>1463111.0</td>\n",
              "      <td>74159.0</td>\n",
              "    </tr>\n",
              "    <tr>\n",
              "      <th>25</th>\n",
              "      <td>25</td>\n",
              "      <td>Spain</td>\n",
              "      <td>12/31/2020</td>\n",
              "      <td>1928265.0</td>\n",
              "      <td>150376.0</td>\n",
              "      <td>50837.0</td>\n",
              "    </tr>\n",
              "    <tr>\n",
              "      <th>9</th>\n",
              "      <td>9</td>\n",
              "      <td>Germany</td>\n",
              "      <td>12/31/2020</td>\n",
              "      <td>1760520.0</td>\n",
              "      <td>1350708.0</td>\n",
              "      <td>33791.0</td>\n",
              "    </tr>\n",
              "    <tr>\n",
              "      <th>6</th>\n",
              "      <td>6</td>\n",
              "      <td>Colombia</td>\n",
              "      <td>12/31/2020</td>\n",
              "      <td>1642775.0</td>\n",
              "      <td>1508419.0</td>\n",
              "      <td>43213.0</td>\n",
              "    </tr>\n",
              "    <tr>\n",
              "      <th>19</th>\n",
              "      <td>19</td>\n",
              "      <td>Mexico</td>\n",
              "      <td>12/31/2020</td>\n",
              "      <td>1426094.0</td>\n",
              "      <td>1074795.0</td>\n",
              "      <td>125807.0</td>\n",
              "    </tr>\n",
              "  </tbody>\n",
              "</table>\n",
              "</div>"
            ],
            "text/plain": [
              "    index Country/Region ObservationDate   Confirmed  Recovered    Deaths\n",
              "29     29             US      12/31/2020  20061903.0        0.0  352729.0\n",
              "11     11          India      12/31/2020  10266674.0  9860280.0  148738.0\n",
              "3       3         Brazil      12/31/2020   7675973.0  6848844.0  194949.0\n",
              "24     24         Russia      12/31/2020   3127347.0  2527722.0   56271.0\n",
              "28     28             UK      12/31/2020   2496235.0     5482.0   73622.0\n",
              "14     14          Italy      12/31/2020   2107166.0  1463111.0   74159.0\n",
              "25     25          Spain      12/31/2020   1928265.0   150376.0   50837.0\n",
              "9       9        Germany      12/31/2020   1760520.0  1350708.0   33791.0\n",
              "6       6       Colombia      12/31/2020   1642775.0  1508419.0   43213.0\n",
              "19     19         Mexico      12/31/2020   1426094.0  1074795.0  125807.0"
            ]
          },
          "metadata": {
            "tags": []
          },
          "execution_count": 142
        }
      ]
    },
    {
      "cell_type": "code",
      "metadata": {
        "colab": {
          "base_uri": "https://localhost:8080/",
          "height": 466
        },
        "id": "Mclp6Sp9LKiK",
        "outputId": "323f853a-48b1-466d-82b6-cfac92dbbbbd"
      },
      "source": [
        "fig1, ax1 = plt.subplots(figsize = (8,8))\n",
        "ax1.pie(top_10_confirmed_country['Confirmed'], labels=top_10_confirmed_country['Country/Region'], autopct='%1.1f%%', startangle=90)\n",
        "plt.show()"
      ],
      "execution_count": null,
      "outputs": [
        {
          "output_type": "display_data",
          "data": {
            "image/png": "[encoded data removed]",
            "text/plain": [
              "<Figure size 576x576 with 1 Axes>"
            ]
          },
          "metadata": {
            "tags": []
          }
        }
      ]
    },
    {
      "cell_type": "code",
      "metadata": {
        "id": "Hc6NAzBzYMXi",
        "colab": {
          "base_uri": "https://localhost:8080/",
          "height": 225
        },
        "outputId": "2c2523cf-9526-4c83-9a16-2927e81bb627"
      },
      "source": [
        "bar_grouped=sam.groupby(['Country/Region']).agg({\"Active\":'sum',\"Recovered\":'sum',\"Deaths\":'sum'})\n",
        "bar_grouped.head()"
      ],
      "execution_count": null,
      "outputs": [
        {
          "output_type": "execute_result",
          "data": {
            "text/html": [
              "<div>\n",
              "<style scoped>\n",
              "    .dataframe tbody tr th:only-of-type {\n",
              "        vertical-align: middle;\n",
              "    }\n",
              "\n",
              "    .dataframe tbody tr th {\n",
              "        vertical-align: top;\n",
              "    }\n",
              "\n",
              "    .dataframe thead th {\n",
              "        text-align: right;\n",
              "    }\n",
              "</style>\n",
              "<table border=\"1\" class=\"dataframe\">\n",
              "  <thead>\n",
              "    <tr style=\"text-align: right;\">\n",
              "      <th></th>\n",
              "      <th>Active</th>\n",
              "      <th>Recovered</th>\n",
              "      <th>Deaths</th>\n",
              "    </tr>\n",
              "    <tr>\n",
              "      <th>Country/Region</th>\n",
              "      <th></th>\n",
              "      <th></th>\n",
              "      <th></th>\n",
              "    </tr>\n",
              "  </thead>\n",
              "  <tbody>\n",
              "    <tr>\n",
              "      <th>Australia</th>\n",
              "      <td>112944.0</td>\n",
              "      <td>387628.0</td>\n",
              "      <td>14662.0</td>\n",
              "    </tr>\n",
              "    <tr>\n",
              "      <th>Belgium</th>\n",
              "      <td>3856018.0</td>\n",
              "      <td>0.0</td>\n",
              "      <td>77073.0</td>\n",
              "    </tr>\n",
              "    <tr>\n",
              "      <th>Brazil</th>\n",
              "      <td>8337608.0</td>\n",
              "      <td>65788707.0</td>\n",
              "      <td>2145309.0</td>\n",
              "    </tr>\n",
              "    <tr>\n",
              "      <th>Canada</th>\n",
              "      <td>683782.0</td>\n",
              "      <td>4511679.0</td>\n",
              "      <td>194165.0</td>\n",
              "    </tr>\n",
              "    <tr>\n",
              "      <th>Chile</th>\n",
              "      <td>596995.0</td>\n",
              "      <td>6625776.0</td>\n",
              "      <td>193396.0</td>\n",
              "    </tr>\n",
              "  </tbody>\n",
              "</table>\n",
              "</div>"
            ],
            "text/plain": [
              "                   Active   Recovered     Deaths\n",
              "Country/Region                                  \n",
              "Australia        112944.0    387628.0    14662.0\n",
              "Belgium         3856018.0         0.0    77073.0\n",
              "Brazil          8337608.0  65788707.0  2145309.0\n",
              "Canada           683782.0   4511679.0   194165.0\n",
              "Chile            596995.0   6625776.0   193396.0"
            ]
          },
          "metadata": {
            "tags": []
          },
          "execution_count": 16
        }
      ]
    },
    {
      "cell_type": "code",
      "metadata": {
        "id": "azl6Vdmudv8n",
        "colab": {
          "base_uri": "https://localhost:8080/",
          "height": 921
        },
        "outputId": "3152e352-8c33-46c4-898b-bd3d1d59608a"
      },
      "source": [
        "bar_grouped.loc[:,'Active'].plot(kind='bar')\n",
        "bar_grouped.loc[:,'Recovered'].plot(kind='bar')\n",
        "bar_grouped.loc[:,'Deaths'].plot(kind='bar')\n",
        "bar_grouped.plot(kind='bar',grid=True,subplots=True,sharex=True, figsize = (8,8)); "
      ],
      "execution_count": null,
      "outputs": [
        {
          "output_type": "display_data",
          "data": {
            "image/png": "[encoded data removed]",
            "text/plain": [
              "<Figure size 432x288 with 1 Axes>"
            ]
          },
          "metadata": {
            "tags": [],
            "needs_background": "light"
          }
        },
        {
          "output_type": "display_data",
          "data": {
            "image/png": "[encoded data removed]",
            "text/plain": [
              "<Figure size 576x576 with 3 Axes>"
            ]
          },
          "metadata": {
            "tags": [],
            "needs_background": "light"
          }
        }
      ]
    }
  ]
}